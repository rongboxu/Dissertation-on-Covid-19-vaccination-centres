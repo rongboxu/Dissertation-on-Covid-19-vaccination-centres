{
 "cells": [
  {
   "cell_type": "code",
   "execution_count": 2,
   "metadata": {},
   "outputs": [],
   "source": [
    "#!/usr/bin/env python3.7\n",
    "\n",
    "# Copyright 2022, Gurobi Optimization, LLC\n",
    "\n",
    "# We find alternative epsilon-optimal solutions to a given knapsack\n",
    "# problem by using PoolSearchMode\n",
    "\n",
    "from __future__ import print_function\n",
    "import gurobipy as gp\n",
    "from gurobipy import GRB\n",
    "import sys"
   ]
  },
  {
   "cell_type": "code",
   "execution_count": 3,
   "metadata": {},
   "outputs": [],
   "source": [
    "    # Sample data\n",
    "    Groundset = range(10)\n",
    "    objCoef = [32, 32, 15, 15, 6, 6, 1, 1, 1, 1]\n",
    "    knapsackCoef = [16, 16,  8,  8, 4, 4, 2, 2, 1, 1]\n",
    "    Budget = 33"
   ]
  },
  {
   "cell_type": "code",
   "execution_count": 4,
   "metadata": {},
   "outputs": [
    {
     "name": "stdout",
     "output_type": "stream",
     "text": [
      "Set parameter Username\n",
      "Academic license - for non-commercial use only - expires 2023-06-14\n"
     ]
    }
   ],
   "source": [
    "    # Create initial model 创建模型\n",
    "    model = gp.Model(\"poolsearch\")\n",
    "\n",
    "    # Create dicts for tupledict.prod() function\n",
    "    objCoefDict = dict(zip(Groundset, objCoef))\n",
    "    knapsackCoefDict = dict(zip(Groundset, knapsackCoef))\n",
    "\n",
    "    # Initialize decision variables for ground set: 添加变量\n",
    "    # x[e] == 1 if element e is chosen\n",
    "    Elem = model.addVars(Groundset, vtype=GRB.BINARY, name='El')"
   ]
  },
  {
   "cell_type": "code",
   "execution_count": 5,
   "metadata": {},
   "outputs": [],
   "source": [
    "    # Set objective function 设置目标函数\n",
    "    # Gurobi 模型对象。常用的方法包括 AddVar（向模型添加新的决策变量）、 AddConstr（向模型添加新的约束）、 \n",
    "    # Optimize（优化当前模型）和Get （检索属性的值）。\n",
    "    model.ModelSense = GRB.MAXIMIZE\n",
    "    model.setObjective(Elem.prod(objCoefDict))"
   ]
  },
  {
   "cell_type": "code",
   "execution_count": 6,
   "metadata": {},
   "outputs": [
    {
     "name": "stdout",
     "output_type": "stream",
     "text": [
      "Set parameter PoolSolutions to value 1024\n",
      "Set parameter PoolGap to value 0.1\n",
      "Set parameter PoolSearchMode to value 2\n"
     ]
    }
   ],
   "source": [
    "    # Constraint: limit total number of elements to be picked to be at most\n",
    "    # Budget\n",
    "    model.addConstr(Elem.prod(knapsackCoefDict) <= Budget, name='Budget')\n",
    "\n",
    "    # Limit how many solutions to collect 想要收集多少个解\n",
    "    model.setParam(GRB.Param.PoolSolutions, 1024)\n",
    "    \n",
    "    # Limit the search space by setting a gap for the worst possible solution that will be accepted\n",
    "    model.setParam(GRB.Param.PoolGap, 0.10)\n",
    "\n",
    "    # do a systematic search for the k-best solutions\n",
    "    # 选择不同的模式来探索 MIP 搜索树。在默认设置 ( PoolSearchMode=0) 下，MIP 求解器尝试找到模型的最优解。它保留了沿途发现的其他解决方案，但这些都是偶然的。\n",
    "    # 通过将此参数设置为非默认值，MIP 搜索将在找到最佳解决方案后继续，以找到其他高质量的解决方案。\n",
    "    # 使用非默认值 (PoolSearchMode=1或 PoolSearchMode=2)，MIP 求解器将尝试找到n 解决方案，其中n由 PoolSolutions参数的值确定。\n",
    "    # 设置为 1 时，无法保证额外解决方案的质量，而设置为 2 时，求解器将找到n最佳解决方案。求解的成本将随着此参数值的增加而增加。\n",
    "    model.setParam(GRB.Param.PoolSearchMode, 2)"
   ]
  },
  {
   "cell_type": "code",
   "execution_count": 8,
   "metadata": {},
   "outputs": [],
   "source": [
    "    # save problem\n",
    "    model.write('poolsearch.lp')\n",
    "\n",
    "    # Optimize\n",
    "    model.optimize()\n",
    "    model.setParam(GRB.Param.OutputFlag, 0)"
   ]
  },
  {
   "cell_type": "code",
   "execution_count": 1,
   "metadata": {},
   "outputs": [
    {
     "ename": "NameError",
     "evalue": "name 'model' is not defined",
     "output_type": "error",
     "traceback": [
      "\u001b[0;31m---------------------------------------------------------------------------\u001b[0m",
      "\u001b[0;31mNameError\u001b[0m                                 Traceback (most recent call last)",
      "\u001b[0;32m<ipython-input-1-1f926eab83bc>\u001b[0m in \u001b[0;36m<module>\u001b[0;34m\u001b[0m\n\u001b[1;32m      1\u001b[0m \u001b[0;31m# Status checking\u001b[0m\u001b[0;34m\u001b[0m\u001b[0;34m\u001b[0m\u001b[0;34m\u001b[0m\u001b[0m\n\u001b[0;32m----> 2\u001b[0;31m \u001b[0mstatus\u001b[0m \u001b[0;34m=\u001b[0m \u001b[0mmodel\u001b[0m\u001b[0;34m.\u001b[0m\u001b[0mStatus\u001b[0m\u001b[0;34m\u001b[0m\u001b[0;34m\u001b[0m\u001b[0m\n\u001b[0m\u001b[1;32m      3\u001b[0m \u001b[0;32mif\u001b[0m \u001b[0mstatus\u001b[0m \u001b[0;32min\u001b[0m \u001b[0;34m(\u001b[0m\u001b[0mGRB\u001b[0m\u001b[0;34m.\u001b[0m\u001b[0mINF_OR_UNBD\u001b[0m\u001b[0;34m,\u001b[0m \u001b[0mGRB\u001b[0m\u001b[0;34m.\u001b[0m\u001b[0mINFEASIBLE\u001b[0m\u001b[0;34m,\u001b[0m \u001b[0mGRB\u001b[0m\u001b[0;34m.\u001b[0m\u001b[0mUNBOUNDED\u001b[0m\u001b[0;34m)\u001b[0m\u001b[0;34m:\u001b[0m\u001b[0;34m\u001b[0m\u001b[0;34m\u001b[0m\u001b[0m\n\u001b[1;32m      4\u001b[0m     print('The model cannot be solved because it is infeasible or '\n\u001b[1;32m      5\u001b[0m           'unbounded')\n",
      "\u001b[0;31mNameError\u001b[0m: name 'model' is not defined"
     ]
    }
   ],
   "source": [
    "    # Status checking\n",
    "    status = model.Status\n",
    "    if status in (GRB.INF_OR_UNBD, GRB.INFEASIBLE, GRB.UNBOUNDED):\n",
    "        print('The model cannot be solved because it is infeasible or '\n",
    "              'unbounded')\n",
    "        sys.exit(1)\n",
    "\n",
    "    if status != GRB.OPTIMAL:\n",
    "        print('Optimization was stopped with status ' + str(status))\n",
    "        sys.exit(1)"
   ]
  },
  {
   "cell_type": "code",
   "execution_count": 10,
   "metadata": {},
   "outputs": [
    {
     "name": "stdout",
     "output_type": "stream",
     "text": [
      "Selected elements in best solution:\n",
      "\t El0 El1 El8\n"
     ]
    }
   ],
   "source": [
    "    # Print best selected set\n",
    "    print('Selected elements in best solution:')\n",
    "    print('\\t', end='')\n",
    "    for e in Groundset:\n",
    "        if Elem[e].X > .9:\n",
    "            print(' El%d' % e, end='')\n",
    "    print('')"
   ]
  },
  {
   "cell_type": "code",
   "execution_count": 11,
   "metadata": {},
   "outputs": [
    {
     "name": "stdout",
     "output_type": "stream",
     "text": [
      "Number of solutions found: 21\n"
     ]
    }
   ],
   "source": [
    "    # Print number of solutions stored\n",
    "    nSolutions = model.SolCount\n",
    "    print('Number of solutions found: ' + str(nSolutions))"
   ]
  },
  {
   "cell_type": "code",
   "execution_count": 12,
   "metadata": {},
   "outputs": [
    {
     "name": "stdout",
     "output_type": "stream",
     "text": [
      "65 65 64 63 63 63 63 62 62 60 60 60 60 60 60 \n",
      "60 60 59 59 59 59 \n"
     ]
    }
   ],
   "source": [
    "    # Print objective values of solutions\n",
    "    for e in range(nSolutions):\n",
    "        model.setParam(GRB.Param.SolutionNumber, e)\n",
    "        print('%g ' % model.PoolObjVal, end='')\n",
    "        if e % 15 == 14:\n",
    "            print('')\n",
    "    print('')"
   ]
  },
  {
   "cell_type": "code",
   "execution_count": 13,
   "metadata": {},
   "outputs": [
    {
     "name": "stdout",
     "output_type": "stream",
     "text": [
      "Selected elements in fourth best solution:\n",
      "\t El1 El2 El3 El8\n"
     ]
    }
   ],
   "source": [
    "    # print fourth best set if available\n",
    "    if (nSolutions >= 4):\n",
    "        model.setParam(GRB.Param.SolutionNumber, 3)\n",
    "\n",
    "        print('Selected elements in fourth best solution:')\n",
    "        print('\\t', end='')\n",
    "        for e in Groundset:\n",
    "            if Elem[e].Xn > .9:\n",
    "                print(' El%d' % e, end='')\n",
    "        print('')"
   ]
  }
 ],
 "metadata": {
  "kernelspec": {
   "display_name": "urbsim",
   "language": "python",
   "name": "urbsim"
  },
  "language_info": {
   "codemirror_mode": {
    "name": "ipython",
    "version": 3
   },
   "file_extension": ".py",
   "mimetype": "text/x-python",
   "name": "python",
   "nbconvert_exporter": "python",
   "pygments_lexer": "ipython3",
   "version": "3.8.3"
  },
  "orig_nbformat": 4
 },
 "nbformat": 4,
 "nbformat_minor": 2
}
