{
 "cells": [
  {
   "cell_type": "code",
   "execution_count": 1,
   "metadata": {},
   "outputs": [],
   "source": [
    "# 非常简单的例子\n",
    "from itertools import product\n",
    "from math import sqrt\n",
    "# 设置参数\n",
    "demand_points = [(0,1.5), (2.5,1.2), (3,1), (0.5,2)]\n",
    "facilities = [(0,0), (0,1), (0,2), (1,0), (1,1), (1,2), (2,0), (2,1), (2,2)]\n",
    "num_facilities = len(facilities)\n",
    "num_demand_points = len(demand_points)\n",
    "# 计算距离\n",
    "def compute_distance(loc1, loc2):\n",
    "    dx = loc1[0] - loc2[0]\n",
    "    dy = loc1[1] - loc2[1]\n",
    "    return sqrt(dx*dx + dy*dy)\n",
    "cartesian_prod = list(product(range(num_demand_points), range(num_facilities))) \n",
    "distance = {(c,f): compute_distance(demand_points[c], facilities[f]) for c, f in cartesian_prod}"
   ]
  },
  {
   "cell_type": "code",
   "execution_count": 2,
   "metadata": {},
   "outputs": [
    {
     "name": "stdout",
     "output_type": "stream",
     "text": [
      "Set parameter Username\n",
      "Academic license - for non-commercial use only - expires 2023-06-14\n",
      "Gurobi Optimizer version 9.5.1 build v9.5.1rc2 (mac64[x86])\n",
      "Thread count: 4 physical cores, 8 logical processors, using up to 8 threads\n",
      "Optimize a model with 4 rows, 9 columns and 21 nonzeros\n",
      "Model fingerprint: 0x7dbe785b\n",
      "Variable types: 0 continuous, 9 integer (9 binary)\n",
      "Coefficient statistics:\n",
      "  Matrix range     [1e+00, 1e+00]\n",
      "  Objective range  [1e+00, 1e+00]\n",
      "  Bounds range     [1e+00, 1e+00]\n",
      "  RHS range        [1e+00, 1e+00]\n",
      "Found heuristic solution: objective 2.0000000\n",
      "Presolve removed 4 rows and 9 columns\n",
      "Presolve time: 0.00s\n",
      "Presolve: All rows and columns removed\n",
      "\n",
      "Explored 0 nodes (0 simplex iterations) in 0.03 seconds (0.00 work units)\n",
      "Thread count was 1 (of 8 available processors)\n",
      "\n",
      "Solution count 1: 2 \n",
      "\n",
      "Optimal solution found (tolerance 1.00e-04)\n",
      "Best objective 2.000000000000e+00, best bound 2.000000000000e+00, gap 0.0000%\n"
     ]
    }
   ],
   "source": [
    "import gurobipy as gp\n",
    "from gurobipy import GRB\n",
    "\n",
    "m = gp.Model('facility_location')\n",
    "# 添加决策变量\n",
    "select = m.addVars(num_facilities, vtype=GRB.BINARY, name='Select')\n",
    "# 设置限制条件\n",
    "    # 每个i在距离x内至少被1个j覆盖\n",
    "m.addConstrs((gp.quicksum(select[j] for j in range(num_facilities) if distance[(i,j)] < 2) >= 1  for i in range(num_demand_points)), name='Demand')\n",
    "# 设置模型目标\n",
    "m.setObjective(gp.quicksum(select[j] for j in range(num_facilities)), GRB.MINIMIZE)\n",
    "m.optimize()"
   ]
  },
  {
   "cell_type": "code",
   "execution_count": 3,
   "metadata": {},
   "outputs": [
    {
     "data": {
      "text/plain": [
       "{0: <gurobi.Var Select[0] (value 0.0)>,\n",
       " 1: <gurobi.Var Select[1] (value 0.0)>,\n",
       " 2: <gurobi.Var Select[2] (value 0.0)>,\n",
       " 3: <gurobi.Var Select[3] (value 0.0)>,\n",
       " 4: <gurobi.Var Select[4] (value 0.0)>,\n",
       " 5: <gurobi.Var Select[5] (value 1.0)>,\n",
       " 6: <gurobi.Var Select[6] (value 0.0)>,\n",
       " 7: <gurobi.Var Select[7] (value 1.0)>,\n",
       " 8: <gurobi.Var Select[8] (value 0.0)>}"
      ]
     },
     "execution_count": 3,
     "metadata": {},
     "output_type": "execute_result"
    }
   ],
   "source": [
    "select"
   ]
  }
 ],
 "metadata": {
  "interpreter": {
   "hash": "40d3a090f54c6569ab1632332b64b2c03c39dcf918b08424e98f38b5ae0af88f"
  },
  "kernelspec": {
   "display_name": "Python 3.8.3 ('base')",
   "language": "python",
   "name": "python3"
  },
  "language_info": {
   "name": "python",
   "version": "3.8.3"
  },
  "orig_nbformat": 4
 },
 "nbformat": 4,
 "nbformat_minor": 2
}
