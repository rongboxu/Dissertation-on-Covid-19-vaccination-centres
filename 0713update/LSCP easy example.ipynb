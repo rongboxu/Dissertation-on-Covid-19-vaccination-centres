{
 "cells": [
  {
   "cell_type": "code",
   "execution_count": 1,
   "metadata": {},
   "outputs": [
    {
     "name": "stderr",
     "output_type": "stream",
     "text": [
      "/opt/anaconda3/lib/python3.8/site-packages/geopandas/_compat.py:111: UserWarning: The Shapely GEOS version (3.8.0-CAPI-1.13.1 ) is incompatible with the GEOS version PyGEOS was compiled with (3.10.1-CAPI-1.16.0). Conversions between both will be slow.\n",
      "  warnings.warn(\n"
     ]
    }
   ],
   "source": [
    "import numpy\n",
    "import geopandas\n",
    "import pandas\n",
    "import pulp\n",
    "from shapely.geometry import Point\n",
    "import matplotlib.pyplot as plt"
   ]
  },
  {
   "cell_type": "markdown",
   "metadata": {},
   "source": [
    "该问题由 4 个数据文件组成 - network_distance 是由 ArcGIS Network Analyst Extension 计算的设施候选站点之间距离的计算 - demand_points 表示具有设施位置问题（如人口）的一些重要特征的请求点 - facility_points 表示作为候选设施的商店地点 - 区域是人口普查区域 205 的多边形。"
   ]
  },
  {
   "cell_type": "code",
   "execution_count": 2,
   "metadata": {},
   "outputs": [],
   "source": [
    "DIRPATH = \"../0713update/data/\"\n",
    "\n",
    "network_distance = pandas.read_csv(DIRPATH+\"SF_network_distance_candidateStore_16_censusTract_205_new.csv\")\n",
    "demand_points = pandas.read_csv(DIRPATH+ \"SF_demand_205_centroid_uniform_weight.csv\", index_col=0)\n",
    "facility_points = pandas.read_csv(DIRPATH + \"SF_store_site_16_longlat.csv\", index_col=0)\n",
    "study_area = geopandas.read_file(DIRPATH + \"ServiceAreas_4.shp\").dissolve()"
   ]
  },
  {
   "cell_type": "code",
   "execution_count": 3,
   "metadata": {},
   "outputs": [
    {
     "data": {
      "text/html": [
       "<div>\n",
       "<style scoped>\n",
       "    .dataframe tbody tr th:only-of-type {\n",
       "        vertical-align: middle;\n",
       "    }\n",
       "\n",
       "    .dataframe tbody tr th {\n",
       "        vertical-align: top;\n",
       "    }\n",
       "\n",
       "    .dataframe thead th {\n",
       "        text-align: right;\n",
       "    }\n",
       "</style>\n",
       "<table border=\"1\" class=\"dataframe\">\n",
       "  <thead>\n",
       "    <tr style=\"text-align: right;\">\n",
       "      <th></th>\n",
       "      <th>distance</th>\n",
       "      <th>name</th>\n",
       "      <th>DestinationName</th>\n",
       "      <th>demand</th>\n",
       "    </tr>\n",
       "  </thead>\n",
       "  <tbody>\n",
       "    <tr>\n",
       "      <th>0</th>\n",
       "      <td>671.573346</td>\n",
       "      <td>Store_1</td>\n",
       "      <td>60750479.01</td>\n",
       "      <td>6540</td>\n",
       "    </tr>\n",
       "    <tr>\n",
       "      <th>1</th>\n",
       "      <td>1333.708063</td>\n",
       "      <td>Store_1</td>\n",
       "      <td>60750479.02</td>\n",
       "      <td>3539</td>\n",
       "    </tr>\n",
       "    <tr>\n",
       "      <th>2</th>\n",
       "      <td>1656.188884</td>\n",
       "      <td>Store_1</td>\n",
       "      <td>60750352.02</td>\n",
       "      <td>4436</td>\n",
       "    </tr>\n",
       "    <tr>\n",
       "      <th>3</th>\n",
       "      <td>1783.006047</td>\n",
       "      <td>Store_1</td>\n",
       "      <td>60750602.00</td>\n",
       "      <td>231</td>\n",
       "    </tr>\n",
       "    <tr>\n",
       "      <th>4</th>\n",
       "      <td>1790.950612</td>\n",
       "      <td>Store_1</td>\n",
       "      <td>60750478.00</td>\n",
       "      <td>7787</td>\n",
       "    </tr>\n",
       "  </tbody>\n",
       "</table>\n",
       "</div>"
      ],
      "text/plain": [
       "      distance     name  DestinationName  demand\n",
       "0   671.573346  Store_1      60750479.01    6540\n",
       "1  1333.708063  Store_1      60750479.02    3539\n",
       "2  1656.188884  Store_1      60750352.02    4436\n",
       "3  1783.006047  Store_1      60750602.00     231\n",
       "4  1790.950612  Store_1      60750478.00    7787"
      ]
     },
     "execution_count": 3,
     "metadata": {},
     "output_type": "execute_result"
    }
   ],
   "source": [
    "network_distance.head(5)"
   ]
  },
  {
   "cell_type": "code",
   "execution_count": 4,
   "metadata": {},
   "outputs": [
    {
     "data": {
      "text/html": [
       "<div>\n",
       "<style scoped>\n",
       "    .dataframe tbody tr th:only-of-type {\n",
       "        vertical-align: middle;\n",
       "    }\n",
       "\n",
       "    .dataframe tbody tr th {\n",
       "        vertical-align: top;\n",
       "    }\n",
       "\n",
       "    .dataframe thead th {\n",
       "        text-align: right;\n",
       "    }\n",
       "</style>\n",
       "<table border=\"1\" class=\"dataframe\">\n",
       "  <thead>\n",
       "    <tr style=\"text-align: right;\">\n",
       "      <th></th>\n",
       "      <th>OBJECTID</th>\n",
       "      <th>ID</th>\n",
       "      <th>NAME</th>\n",
       "      <th>STATE_NAME</th>\n",
       "      <th>AREA</th>\n",
       "      <th>POP2000</th>\n",
       "      <th>HOUSEHOLDS</th>\n",
       "      <th>HSE_UNITS</th>\n",
       "      <th>BUS_COUNT</th>\n",
       "      <th>long</th>\n",
       "      <th>lat</th>\n",
       "    </tr>\n",
       "  </thead>\n",
       "  <tbody>\n",
       "    <tr>\n",
       "      <th>1</th>\n",
       "      <td>1</td>\n",
       "      <td>6081602900</td>\n",
       "      <td>60816029.00</td>\n",
       "      <td>California</td>\n",
       "      <td>0.48627</td>\n",
       "      <td>4135</td>\n",
       "      <td>1679</td>\n",
       "      <td>1715</td>\n",
       "      <td>112</td>\n",
       "      <td>-122.488653</td>\n",
       "      <td>37.650807</td>\n",
       "    </tr>\n",
       "    <tr>\n",
       "      <th>2</th>\n",
       "      <td>2</td>\n",
       "      <td>6081602800</td>\n",
       "      <td>60816028.00</td>\n",
       "      <td>California</td>\n",
       "      <td>0.47478</td>\n",
       "      <td>4831</td>\n",
       "      <td>1484</td>\n",
       "      <td>1506</td>\n",
       "      <td>59</td>\n",
       "      <td>-122.483550</td>\n",
       "      <td>37.659998</td>\n",
       "    </tr>\n",
       "    <tr>\n",
       "      <th>3</th>\n",
       "      <td>3</td>\n",
       "      <td>6081601700</td>\n",
       "      <td>60816017.00</td>\n",
       "      <td>California</td>\n",
       "      <td>0.46393</td>\n",
       "      <td>4155</td>\n",
       "      <td>1294</td>\n",
       "      <td>1313</td>\n",
       "      <td>55</td>\n",
       "      <td>-122.456484</td>\n",
       "      <td>37.663272</td>\n",
       "    </tr>\n",
       "    <tr>\n",
       "      <th>4</th>\n",
       "      <td>4</td>\n",
       "      <td>6081601900</td>\n",
       "      <td>60816019.00</td>\n",
       "      <td>California</td>\n",
       "      <td>0.81907</td>\n",
       "      <td>9041</td>\n",
       "      <td>3273</td>\n",
       "      <td>3330</td>\n",
       "      <td>118</td>\n",
       "      <td>-122.434247</td>\n",
       "      <td>37.662385</td>\n",
       "    </tr>\n",
       "    <tr>\n",
       "      <th>5</th>\n",
       "      <td>5</td>\n",
       "      <td>6081602500</td>\n",
       "      <td>60816025.00</td>\n",
       "      <td>California</td>\n",
       "      <td>0.46603</td>\n",
       "      <td>5146</td>\n",
       "      <td>1459</td>\n",
       "      <td>1467</td>\n",
       "      <td>44</td>\n",
       "      <td>-122.451187</td>\n",
       "      <td>37.640219</td>\n",
       "    </tr>\n",
       "    <tr>\n",
       "      <th>...</th>\n",
       "      <td>...</td>\n",
       "      <td>...</td>\n",
       "      <td>...</td>\n",
       "      <td>...</td>\n",
       "      <td>...</td>\n",
       "      <td>...</td>\n",
       "      <td>...</td>\n",
       "      <td>...</td>\n",
       "      <td>...</td>\n",
       "      <td>...</td>\n",
       "      <td>...</td>\n",
       "    </tr>\n",
       "    <tr>\n",
       "      <th>201</th>\n",
       "      <td>204</td>\n",
       "      <td>6075011100</td>\n",
       "      <td>60750111.00</td>\n",
       "      <td>California</td>\n",
       "      <td>0.09466</td>\n",
       "      <td>5559</td>\n",
       "      <td>2930</td>\n",
       "      <td>3037</td>\n",
       "      <td>362</td>\n",
       "      <td>-122.418479</td>\n",
       "      <td>37.791082</td>\n",
       "    </tr>\n",
       "    <tr>\n",
       "      <th>202</th>\n",
       "      <td>205</td>\n",
       "      <td>6075012200</td>\n",
       "      <td>60750122.00</td>\n",
       "      <td>California</td>\n",
       "      <td>0.07211</td>\n",
       "      <td>7035</td>\n",
       "      <td>3862</td>\n",
       "      <td>4074</td>\n",
       "      <td>272</td>\n",
       "      <td>-122.417237</td>\n",
       "      <td>37.785728</td>\n",
       "    </tr>\n",
       "    <tr>\n",
       "      <th>203</th>\n",
       "      <td>206</td>\n",
       "      <td>6075017601</td>\n",
       "      <td>60750176.01</td>\n",
       "      <td>California</td>\n",
       "      <td>0.24306</td>\n",
       "      <td>5756</td>\n",
       "      <td>2437</td>\n",
       "      <td>2556</td>\n",
       "      <td>943</td>\n",
       "      <td>-122.410115</td>\n",
       "      <td>37.779459</td>\n",
       "    </tr>\n",
       "    <tr>\n",
       "      <th>204</th>\n",
       "      <td>207</td>\n",
       "      <td>6075017800</td>\n",
       "      <td>60750178.00</td>\n",
       "      <td>California</td>\n",
       "      <td>0.27882</td>\n",
       "      <td>5829</td>\n",
       "      <td>3115</td>\n",
       "      <td>3231</td>\n",
       "      <td>807</td>\n",
       "      <td>-122.405411</td>\n",
       "      <td>37.778934</td>\n",
       "    </tr>\n",
       "    <tr>\n",
       "      <th>205</th>\n",
       "      <td>208</td>\n",
       "      <td>6075012400</td>\n",
       "      <td>60750124.00</td>\n",
       "      <td>California</td>\n",
       "      <td>0.17496</td>\n",
       "      <td>8188</td>\n",
       "      <td>4328</td>\n",
       "      <td>4609</td>\n",
       "      <td>549</td>\n",
       "      <td>-122.416455</td>\n",
       "      <td>37.782289</td>\n",
       "    </tr>\n",
       "  </tbody>\n",
       "</table>\n",
       "<p>205 rows × 11 columns</p>\n",
       "</div>"
      ],
      "text/plain": [
       "     OBJECTID          ID         NAME  STATE_NAME     AREA  POP2000  \\\n",
       "1           1  6081602900  60816029.00  California  0.48627     4135   \n",
       "2           2  6081602800  60816028.00  California  0.47478     4831   \n",
       "3           3  6081601700  60816017.00  California  0.46393     4155   \n",
       "4           4  6081601900  60816019.00  California  0.81907     9041   \n",
       "5           5  6081602500  60816025.00  California  0.46603     5146   \n",
       "..        ...         ...          ...         ...      ...      ...   \n",
       "201       204  6075011100  60750111.00  California  0.09466     5559   \n",
       "202       205  6075012200  60750122.00  California  0.07211     7035   \n",
       "203       206  6075017601  60750176.01  California  0.24306     5756   \n",
       "204       207  6075017800  60750178.00  California  0.27882     5829   \n",
       "205       208  6075012400  60750124.00  California  0.17496     8188   \n",
       "\n",
       "     HOUSEHOLDS  HSE_UNITS  BUS_COUNT        long        lat  \n",
       "1          1679       1715        112 -122.488653  37.650807  \n",
       "2          1484       1506         59 -122.483550  37.659998  \n",
       "3          1294       1313         55 -122.456484  37.663272  \n",
       "4          3273       3330        118 -122.434247  37.662385  \n",
       "5          1459       1467         44 -122.451187  37.640219  \n",
       "..          ...        ...        ...         ...        ...  \n",
       "201        2930       3037        362 -122.418479  37.791082  \n",
       "202        3862       4074        272 -122.417237  37.785728  \n",
       "203        2437       2556        943 -122.410115  37.779459  \n",
       "204        3115       3231        807 -122.405411  37.778934  \n",
       "205        4328       4609        549 -122.416455  37.782289  \n",
       "\n",
       "[205 rows x 11 columns]"
      ]
     },
     "metadata": {},
     "output_type": "display_data"
    }
   ],
   "source": [
    "display(demand_points)"
   ]
  },
  {
   "cell_type": "code",
   "execution_count": 5,
   "metadata": {},
   "outputs": [
    {
     "data": {
      "text/html": [
       "<div>\n",
       "<style scoped>\n",
       "    .dataframe tbody tr th:only-of-type {\n",
       "        vertical-align: middle;\n",
       "    }\n",
       "\n",
       "    .dataframe tbody tr th {\n",
       "        vertical-align: top;\n",
       "    }\n",
       "\n",
       "    .dataframe thead th {\n",
       "        text-align: right;\n",
       "    }\n",
       "</style>\n",
       "<table border=\"1\" class=\"dataframe\">\n",
       "  <thead>\n",
       "    <tr style=\"text-align: right;\">\n",
       "      <th></th>\n",
       "      <th>OBJECTID</th>\n",
       "      <th>NAME</th>\n",
       "      <th>long</th>\n",
       "      <th>lat</th>\n",
       "    </tr>\n",
       "  </thead>\n",
       "  <tbody>\n",
       "    <tr>\n",
       "      <th>1</th>\n",
       "      <td>1</td>\n",
       "      <td>Store_1</td>\n",
       "      <td>-122.510018</td>\n",
       "      <td>37.772364</td>\n",
       "    </tr>\n",
       "    <tr>\n",
       "      <th>2</th>\n",
       "      <td>2</td>\n",
       "      <td>Store_2</td>\n",
       "      <td>-122.488873</td>\n",
       "      <td>37.753764</td>\n",
       "    </tr>\n",
       "    <tr>\n",
       "      <th>3</th>\n",
       "      <td>3</td>\n",
       "      <td>Store_3</td>\n",
       "      <td>-122.464927</td>\n",
       "      <td>37.774727</td>\n",
       "    </tr>\n",
       "    <tr>\n",
       "      <th>4</th>\n",
       "      <td>4</td>\n",
       "      <td>Store_4</td>\n",
       "      <td>-122.473945</td>\n",
       "      <td>37.743164</td>\n",
       "    </tr>\n",
       "    <tr>\n",
       "      <th>5</th>\n",
       "      <td>5</td>\n",
       "      <td>Store_5</td>\n",
       "      <td>-122.449291</td>\n",
       "      <td>37.731545</td>\n",
       "    </tr>\n",
       "  </tbody>\n",
       "</table>\n",
       "</div>"
      ],
      "text/plain": [
       "   OBJECTID     NAME        long        lat\n",
       "1         1  Store_1 -122.510018  37.772364\n",
       "2         2  Store_2 -122.488873  37.753764\n",
       "3         3  Store_3 -122.464927  37.774727\n",
       "4         4  Store_4 -122.473945  37.743164\n",
       "5         5  Store_5 -122.449291  37.731545"
      ]
     },
     "execution_count": 5,
     "metadata": {},
     "output_type": "execute_result"
    }
   ],
   "source": [
    "facility_points.head(5)"
   ]
  },
  {
   "cell_type": "code",
   "execution_count": 6,
   "metadata": {},
   "outputs": [
    {
     "data": {
      "text/plain": [
       "<matplotlib.axes._subplots.AxesSubplot at 0x7fe81a580940>"
      ]
     },
     "execution_count": 6,
     "metadata": {},
     "output_type": "execute_result"
    },
    {
     "data": {
      "image/png": "[encoded data removed]",
      "text/plain": [
       "<Figure size 432x288 with 1 Axes>"
      ]
     },
     "metadata": {
      "needs_background": "light"
     },
     "output_type": "display_data"
    }
   ],
   "source": [
    "study_area.plot()"
   ]
  },
  {
   "cell_type": "markdown",
   "metadata": {},
   "source": [
    "### 画图"
   ]
  },
  {
   "cell_type": "code",
   "execution_count": 140,
   "metadata": {},
   "outputs": [],
   "source": [
    "facility_points_gdf = geopandas.GeoDataFrame(\n",
    "    facility_points,\n",
    "    geometry=geopandas.points_from_xy(\n",
    "        facility_points.long, facility_points.lat\n",
    "    ),\n",
    ").sort_values(by=['NAME']).reset_index()\n",
    "\n",
    "demand_points_gdf = geopandas.GeoDataFrame(\n",
    "    demand_points,\n",
    "    geometry=geopandas.points_from_xy(demand_points.long, demand_points.lat),\n",
    ").sort_values(by=['NAME']).reset_index()"
   ]
  },
  {
   "cell_type": "code",
   "execution_count": 121,
   "metadata": {},
   "outputs": [],
   "source": [
    "from matplotlib_scalebar.scalebar import ScaleBar"
   ]
  },
  {
   "cell_type": "code",
   "execution_count": 209,
   "metadata": {},
   "outputs": [
    {
     "data": {
      "text/plain": [
       "<matplotlib.legend.Legend at 0x7fe7df842b50>"
      ]
     },
     "execution_count": 209,
     "metadata": {},
     "output_type": "execute_result"
    },
    {
     "data": {
      "image/png": "[encoded data removed]",
      "text/plain": [
       "<Figure size 1800x1800 with 1 Axes>"
      ]
     },
     "metadata": {
      "needs_background": "light"
     },
     "output_type": "display_data"
    }
   ],
   "source": [
    "fig, ax = plt.subplots(figsize=(18,18),dpi=100)\n",
    "legend_elements = []\n",
    "\n",
    "study_area.plot(figsize = (18,18),ax=ax,alpha=0.1)\n",
    "\n",
    "demand_points_gdf.plot(figsize = (18,18),ax=ax)\n",
    "legend_elements.append(mlines.Line2D(\n",
    "        [],\n",
    "        [],\n",
    "        marker='o',\n",
    "        markersize=7,\n",
    "        linewidth=0,\n",
    "        label='Location of demand points'\n",
    "        ))\n",
    "\n",
    "facility_points_gdf.plot(ax=ax,\n",
    "                marker=\"*\",\n",
    "                markersize=600,\n",
    "                alpha=0.9,\n",
    "                zorder=4,\n",
    "                edgecolor=\"k\",\n",
    "                facecolor='orange')\n",
    "legend_elements.append(mlines.Line2D(\n",
    "        [],\n",
    "        [],\n",
    "        color='orange',\n",
    "        marker='*',\n",
    "        markersize=12,\n",
    "        markeredgecolor=\"k\",\n",
    "        linewidth=0,\n",
    "        label='Location of optional facilities',\n",
    "        ))\n",
    "\n",
    "ax.text(x=54500, y=30500, s='N', fontsize=30)\n",
    "ax.arrow(54200, 30800, 0, 240,length_includes_head=True,head_width=200, head_length=600, overhang=0.1, facecolor='k')\n",
    "\n",
    "scalebar  = ScaleBar(1,location='upper right')\n",
    "plt.gca().add_artist(scalebar)\n",
    "\n",
    "plt.legend(handles = legend_elements, loc='lower right')"
   ]
  },
  {
   "cell_type": "code",
   "execution_count": 197,
   "metadata": {},
   "outputs": [
    {
     "data": {
      "text/html": [
       "<div>\n",
       "<style scoped>\n",
       "    .dataframe tbody tr th:only-of-type {\n",
       "        vertical-align: middle;\n",
       "    }\n",
       "\n",
       "    .dataframe tbody tr th {\n",
       "        vertical-align: top;\n",
       "    }\n",
       "\n",
       "    .dataframe thead th {\n",
       "        text-align: right;\n",
       "    }\n",
       "</style>\n",
       "<table border=\"1\" class=\"dataframe\">\n",
       "  <thead>\n",
       "    <tr style=\"text-align: right;\">\n",
       "      <th></th>\n",
       "      <th>index</th>\n",
       "      <th>OBJECTID</th>\n",
       "      <th>NAME</th>\n",
       "      <th>long</th>\n",
       "      <th>lat</th>\n",
       "      <th>geometry</th>\n",
       "    </tr>\n",
       "  </thead>\n",
       "  <tbody>\n",
       "    <tr>\n",
       "      <th>0</th>\n",
       "      <td>1</td>\n",
       "      <td>1</td>\n",
       "      <td>Store_1</td>\n",
       "      <td>-122.510018</td>\n",
       "      <td>37.772364</td>\n",
       "      <td>POINT (42712.165 26483.898)</td>\n",
       "    </tr>\n",
       "    <tr>\n",
       "      <th>1</th>\n",
       "      <td>8</td>\n",
       "      <td>8</td>\n",
       "      <td>Store_11</td>\n",
       "      <td>-122.433782</td>\n",
       "      <td>37.655364</td>\n",
       "      <td>POINT (49431.133 13496.279)</td>\n",
       "    </tr>\n",
       "    <tr>\n",
       "      <th>2</th>\n",
       "      <td>9</td>\n",
       "      <td>9</td>\n",
       "      <td>Store_12</td>\n",
       "      <td>-122.438982</td>\n",
       "      <td>37.719236</td>\n",
       "      <td>POINT (48971.439 20585.532)</td>\n",
       "    </tr>\n",
       "    <tr>\n",
       "      <th>3</th>\n",
       "      <td>10</td>\n",
       "      <td>10</td>\n",
       "      <td>Store_13</td>\n",
       "      <td>-122.440218</td>\n",
       "      <td>37.745382</td>\n",
       "      <td>POINT (48862.129 23487.462)</td>\n",
       "    </tr>\n",
       "    <tr>\n",
       "      <th>4</th>\n",
       "      <td>11</td>\n",
       "      <td>11</td>\n",
       "      <td>Store_14</td>\n",
       "      <td>-122.421636</td>\n",
       "      <td>37.742964</td>\n",
       "      <td>POINT (50499.936 23219.396)</td>\n",
       "    </tr>\n",
       "    <tr>\n",
       "      <th>5</th>\n",
       "      <td>12</td>\n",
       "      <td>12</td>\n",
       "      <td>Store_15</td>\n",
       "      <td>-122.430982</td>\n",
       "      <td>37.782964</td>\n",
       "      <td>POINT (49675.336 27658.898)</td>\n",
       "    </tr>\n",
       "    <tr>\n",
       "      <th>6</th>\n",
       "      <td>13</td>\n",
       "      <td>13</td>\n",
       "      <td>Store_16</td>\n",
       "      <td>-122.426873</td>\n",
       "      <td>37.769291</td>\n",
       "      <td>POINT (50037.687 26141.402)</td>\n",
       "    </tr>\n",
       "    <tr>\n",
       "      <th>7</th>\n",
       "      <td>14</td>\n",
       "      <td>14</td>\n",
       "      <td>Store_17</td>\n",
       "      <td>-122.432345</td>\n",
       "      <td>37.805218</td>\n",
       "      <td>POINT (49554.745 30128.981)</td>\n",
       "    </tr>\n",
       "    <tr>\n",
       "      <th>8</th>\n",
       "      <td>15</td>\n",
       "      <td>15</td>\n",
       "      <td>Store_18</td>\n",
       "      <td>-122.412818</td>\n",
       "      <td>37.805745</td>\n",
       "      <td>POINT (51274.389 30188.010)</td>\n",
       "    </tr>\n",
       "    <tr>\n",
       "      <th>9</th>\n",
       "      <td>16</td>\n",
       "      <td>16</td>\n",
       "      <td>Store_19</td>\n",
       "      <td>-122.398909</td>\n",
       "      <td>37.797073</td>\n",
       "      <td>POINT (52499.809 29225.972)</td>\n",
       "    </tr>\n",
       "    <tr>\n",
       "      <th>10</th>\n",
       "      <td>2</td>\n",
       "      <td>2</td>\n",
       "      <td>Store_2</td>\n",
       "      <td>-122.488873</td>\n",
       "      <td>37.753764</td>\n",
       "      <td>POINT (44574.304 24418.447)</td>\n",
       "    </tr>\n",
       "    <tr>\n",
       "      <th>11</th>\n",
       "      <td>3</td>\n",
       "      <td>3</td>\n",
       "      <td>Store_3</td>\n",
       "      <td>-122.464927</td>\n",
       "      <td>37.774727</td>\n",
       "      <td>POINT (46684.891 26744.653)</td>\n",
       "    </tr>\n",
       "    <tr>\n",
       "      <th>12</th>\n",
       "      <td>4</td>\n",
       "      <td>4</td>\n",
       "      <td>Store_4</td>\n",
       "      <td>-122.473945</td>\n",
       "      <td>37.743164</td>\n",
       "      <td>POINT (45889.483 23241.485)</td>\n",
       "    </tr>\n",
       "    <tr>\n",
       "      <th>13</th>\n",
       "      <td>5</td>\n",
       "      <td>5</td>\n",
       "      <td>Store_5</td>\n",
       "      <td>-122.449291</td>\n",
       "      <td>37.731545</td>\n",
       "      <td>POINT (48062.508 21951.687)</td>\n",
       "    </tr>\n",
       "    <tr>\n",
       "      <th>14</th>\n",
       "      <td>6</td>\n",
       "      <td>6</td>\n",
       "      <td>Store_6</td>\n",
       "      <td>-122.491745</td>\n",
       "      <td>37.649309</td>\n",
       "      <td>POINT (44315.976 12824.977)</td>\n",
       "    </tr>\n",
       "    <tr>\n",
       "      <th>15</th>\n",
       "      <td>7</td>\n",
       "      <td>7</td>\n",
       "      <td>Store_7</td>\n",
       "      <td>-122.483182</td>\n",
       "      <td>37.701109</td>\n",
       "      <td>POINT (45073.750 18574.015)</td>\n",
       "    </tr>\n",
       "  </tbody>\n",
       "</table>\n",
       "</div>"
      ],
      "text/plain": [
       "    index  OBJECTID      NAME        long        lat  \\\n",
       "0       1         1   Store_1 -122.510018  37.772364   \n",
       "1       8         8  Store_11 -122.433782  37.655364   \n",
       "2       9         9  Store_12 -122.438982  37.719236   \n",
       "3      10        10  Store_13 -122.440218  37.745382   \n",
       "4      11        11  Store_14 -122.421636  37.742964   \n",
       "5      12        12  Store_15 -122.430982  37.782964   \n",
       "6      13        13  Store_16 -122.426873  37.769291   \n",
       "7      14        14  Store_17 -122.432345  37.805218   \n",
       "8      15        15  Store_18 -122.412818  37.805745   \n",
       "9      16        16  Store_19 -122.398909  37.797073   \n",
       "10      2         2   Store_2 -122.488873  37.753764   \n",
       "11      3         3   Store_3 -122.464927  37.774727   \n",
       "12      4         4   Store_4 -122.473945  37.743164   \n",
       "13      5         5   Store_5 -122.449291  37.731545   \n",
       "14      6         6   Store_6 -122.491745  37.649309   \n",
       "15      7         7   Store_7 -122.483182  37.701109   \n",
       "\n",
       "                       geometry  \n",
       "0   POINT (42712.165 26483.898)  \n",
       "1   POINT (49431.133 13496.279)  \n",
       "2   POINT (48971.439 20585.532)  \n",
       "3   POINT (48862.129 23487.462)  \n",
       "4   POINT (50499.936 23219.396)  \n",
       "5   POINT (49675.336 27658.898)  \n",
       "6   POINT (50037.687 26141.402)  \n",
       "7   POINT (49554.745 30128.981)  \n",
       "8   POINT (51274.389 30188.010)  \n",
       "9   POINT (52499.809 29225.972)  \n",
       "10  POINT (44574.304 24418.447)  \n",
       "11  POINT (46684.891 26744.653)  \n",
       "12  POINT (45889.483 23241.485)  \n",
       "13  POINT (48062.508 21951.687)  \n",
       "14  POINT (44315.976 12824.977)  \n",
       "15  POINT (45073.750 18574.015)  "
      ]
     },
     "execution_count": 197,
     "metadata": {},
     "output_type": "execute_result"
    }
   ],
   "source": [
    "facility_points_gdf"
   ]
  },
  {
   "cell_type": "markdown",
   "metadata": {},
   "source": [
    "#### 做优化后的图\n",
    "1 2 4 6 10 11 14 15  \n",
    "把这个gdf分成两部分"
   ]
  },
  {
   "cell_type": "code",
   "execution_count": 200,
   "metadata": {},
   "outputs": [],
   "source": [
    "facility_points_not_selected = facility_points_gdf\n",
    "facility_points_not_selected = facility_points_not_selected.drop([1,2,4,6,10,11,14,15])"
   ]
  },
  {
   "cell_type": "code",
   "execution_count": 201,
   "metadata": {},
   "outputs": [
    {
     "data": {
      "text/html": [
       "<div>\n",
       "<style scoped>\n",
       "    .dataframe tbody tr th:only-of-type {\n",
       "        vertical-align: middle;\n",
       "    }\n",
       "\n",
       "    .dataframe tbody tr th {\n",
       "        vertical-align: top;\n",
       "    }\n",
       "\n",
       "    .dataframe thead th {\n",
       "        text-align: right;\n",
       "    }\n",
       "</style>\n",
       "<table border=\"1\" class=\"dataframe\">\n",
       "  <thead>\n",
       "    <tr style=\"text-align: right;\">\n",
       "      <th></th>\n",
       "      <th>index</th>\n",
       "      <th>OBJECTID</th>\n",
       "      <th>NAME</th>\n",
       "      <th>long</th>\n",
       "      <th>lat</th>\n",
       "      <th>geometry</th>\n",
       "    </tr>\n",
       "  </thead>\n",
       "  <tbody>\n",
       "    <tr>\n",
       "      <th>0</th>\n",
       "      <td>1</td>\n",
       "      <td>1</td>\n",
       "      <td>Store_1</td>\n",
       "      <td>-122.510018</td>\n",
       "      <td>37.772364</td>\n",
       "      <td>POINT (42712.165 26483.898)</td>\n",
       "    </tr>\n",
       "    <tr>\n",
       "      <th>3</th>\n",
       "      <td>10</td>\n",
       "      <td>10</td>\n",
       "      <td>Store_13</td>\n",
       "      <td>-122.440218</td>\n",
       "      <td>37.745382</td>\n",
       "      <td>POINT (48862.129 23487.462)</td>\n",
       "    </tr>\n",
       "    <tr>\n",
       "      <th>5</th>\n",
       "      <td>12</td>\n",
       "      <td>12</td>\n",
       "      <td>Store_15</td>\n",
       "      <td>-122.430982</td>\n",
       "      <td>37.782964</td>\n",
       "      <td>POINT (49675.336 27658.898)</td>\n",
       "    </tr>\n",
       "    <tr>\n",
       "      <th>7</th>\n",
       "      <td>14</td>\n",
       "      <td>14</td>\n",
       "      <td>Store_17</td>\n",
       "      <td>-122.432345</td>\n",
       "      <td>37.805218</td>\n",
       "      <td>POINT (49554.745 30128.981)</td>\n",
       "    </tr>\n",
       "    <tr>\n",
       "      <th>8</th>\n",
       "      <td>15</td>\n",
       "      <td>15</td>\n",
       "      <td>Store_18</td>\n",
       "      <td>-122.412818</td>\n",
       "      <td>37.805745</td>\n",
       "      <td>POINT (51274.389 30188.010)</td>\n",
       "    </tr>\n",
       "    <tr>\n",
       "      <th>9</th>\n",
       "      <td>16</td>\n",
       "      <td>16</td>\n",
       "      <td>Store_19</td>\n",
       "      <td>-122.398909</td>\n",
       "      <td>37.797073</td>\n",
       "      <td>POINT (52499.809 29225.972)</td>\n",
       "    </tr>\n",
       "    <tr>\n",
       "      <th>12</th>\n",
       "      <td>4</td>\n",
       "      <td>4</td>\n",
       "      <td>Store_4</td>\n",
       "      <td>-122.473945</td>\n",
       "      <td>37.743164</td>\n",
       "      <td>POINT (45889.483 23241.485)</td>\n",
       "    </tr>\n",
       "    <tr>\n",
       "      <th>13</th>\n",
       "      <td>5</td>\n",
       "      <td>5</td>\n",
       "      <td>Store_5</td>\n",
       "      <td>-122.449291</td>\n",
       "      <td>37.731545</td>\n",
       "      <td>POINT (48062.508 21951.687)</td>\n",
       "    </tr>\n",
       "  </tbody>\n",
       "</table>\n",
       "</div>"
      ],
      "text/plain": [
       "    index  OBJECTID      NAME        long        lat  \\\n",
       "0       1         1   Store_1 -122.510018  37.772364   \n",
       "3      10        10  Store_13 -122.440218  37.745382   \n",
       "5      12        12  Store_15 -122.430982  37.782964   \n",
       "7      14        14  Store_17 -122.432345  37.805218   \n",
       "8      15        15  Store_18 -122.412818  37.805745   \n",
       "9      16        16  Store_19 -122.398909  37.797073   \n",
       "12      4         4   Store_4 -122.473945  37.743164   \n",
       "13      5         5   Store_5 -122.449291  37.731545   \n",
       "\n",
       "                       geometry  \n",
       "0   POINT (42712.165 26483.898)  \n",
       "3   POINT (48862.129 23487.462)  \n",
       "5   POINT (49675.336 27658.898)  \n",
       "7   POINT (49554.745 30128.981)  \n",
       "8   POINT (51274.389 30188.010)  \n",
       "9   POINT (52499.809 29225.972)  \n",
       "12  POINT (45889.483 23241.485)  \n",
       "13  POINT (48062.508 21951.687)  "
      ]
     },
     "execution_count": 201,
     "metadata": {},
     "output_type": "execute_result"
    }
   ],
   "source": [
    "facility_points_not_selected"
   ]
  },
  {
   "cell_type": "code",
   "execution_count": 202,
   "metadata": {},
   "outputs": [
    {
     "data": {
      "text/html": [
       "<div>\n",
       "<style scoped>\n",
       "    .dataframe tbody tr th:only-of-type {\n",
       "        vertical-align: middle;\n",
       "    }\n",
       "\n",
       "    .dataframe tbody tr th {\n",
       "        vertical-align: top;\n",
       "    }\n",
       "\n",
       "    .dataframe thead th {\n",
       "        text-align: right;\n",
       "    }\n",
       "</style>\n",
       "<table border=\"1\" class=\"dataframe\">\n",
       "  <thead>\n",
       "    <tr style=\"text-align: right;\">\n",
       "      <th></th>\n",
       "      <th>index</th>\n",
       "      <th>OBJECTID</th>\n",
       "      <th>NAME</th>\n",
       "      <th>long</th>\n",
       "      <th>lat</th>\n",
       "      <th>geometry</th>\n",
       "    </tr>\n",
       "  </thead>\n",
       "  <tbody>\n",
       "    <tr>\n",
       "      <th>1</th>\n",
       "      <td>8</td>\n",
       "      <td>8</td>\n",
       "      <td>Store_11</td>\n",
       "      <td>-122.433782</td>\n",
       "      <td>37.655364</td>\n",
       "      <td>POINT (49431.133 13496.279)</td>\n",
       "    </tr>\n",
       "    <tr>\n",
       "      <th>2</th>\n",
       "      <td>9</td>\n",
       "      <td>9</td>\n",
       "      <td>Store_12</td>\n",
       "      <td>-122.438982</td>\n",
       "      <td>37.719236</td>\n",
       "      <td>POINT (48971.439 20585.532)</td>\n",
       "    </tr>\n",
       "    <tr>\n",
       "      <th>4</th>\n",
       "      <td>11</td>\n",
       "      <td>11</td>\n",
       "      <td>Store_14</td>\n",
       "      <td>-122.421636</td>\n",
       "      <td>37.742964</td>\n",
       "      <td>POINT (50499.936 23219.396)</td>\n",
       "    </tr>\n",
       "    <tr>\n",
       "      <th>6</th>\n",
       "      <td>13</td>\n",
       "      <td>13</td>\n",
       "      <td>Store_16</td>\n",
       "      <td>-122.426873</td>\n",
       "      <td>37.769291</td>\n",
       "      <td>POINT (50037.687 26141.402)</td>\n",
       "    </tr>\n",
       "    <tr>\n",
       "      <th>10</th>\n",
       "      <td>2</td>\n",
       "      <td>2</td>\n",
       "      <td>Store_2</td>\n",
       "      <td>-122.488873</td>\n",
       "      <td>37.753764</td>\n",
       "      <td>POINT (44574.304 24418.447)</td>\n",
       "    </tr>\n",
       "    <tr>\n",
       "      <th>11</th>\n",
       "      <td>3</td>\n",
       "      <td>3</td>\n",
       "      <td>Store_3</td>\n",
       "      <td>-122.464927</td>\n",
       "      <td>37.774727</td>\n",
       "      <td>POINT (46684.891 26744.653)</td>\n",
       "    </tr>\n",
       "    <tr>\n",
       "      <th>14</th>\n",
       "      <td>6</td>\n",
       "      <td>6</td>\n",
       "      <td>Store_6</td>\n",
       "      <td>-122.491745</td>\n",
       "      <td>37.649309</td>\n",
       "      <td>POINT (44315.976 12824.977)</td>\n",
       "    </tr>\n",
       "    <tr>\n",
       "      <th>15</th>\n",
       "      <td>7</td>\n",
       "      <td>7</td>\n",
       "      <td>Store_7</td>\n",
       "      <td>-122.483182</td>\n",
       "      <td>37.701109</td>\n",
       "      <td>POINT (45073.750 18574.015)</td>\n",
       "    </tr>\n",
       "  </tbody>\n",
       "</table>\n",
       "</div>"
      ],
      "text/plain": [
       "    index  OBJECTID      NAME        long        lat  \\\n",
       "1       8         8  Store_11 -122.433782  37.655364   \n",
       "2       9         9  Store_12 -122.438982  37.719236   \n",
       "4      11        11  Store_14 -122.421636  37.742964   \n",
       "6      13        13  Store_16 -122.426873  37.769291   \n",
       "10      2         2   Store_2 -122.488873  37.753764   \n",
       "11      3         3   Store_3 -122.464927  37.774727   \n",
       "14      6         6   Store_6 -122.491745  37.649309   \n",
       "15      7         7   Store_7 -122.483182  37.701109   \n",
       "\n",
       "                       geometry  \n",
       "1   POINT (49431.133 13496.279)  \n",
       "2   POINT (48971.439 20585.532)  \n",
       "4   POINT (50499.936 23219.396)  \n",
       "6   POINT (50037.687 26141.402)  \n",
       "10  POINT (44574.304 24418.447)  \n",
       "11  POINT (46684.891 26744.653)  \n",
       "14  POINT (44315.976 12824.977)  \n",
       "15  POINT (45073.750 18574.015)  "
      ]
     },
     "execution_count": 202,
     "metadata": {},
     "output_type": "execute_result"
    }
   ],
   "source": [
    "facility_points_selected = facility_points_gdf.drop([0,3,5,7,8,9,12,13])\n",
    "facility_points_selected"
   ]
  },
  {
   "cell_type": "code",
   "execution_count": 208,
   "metadata": {},
   "outputs": [
    {
     "data": {
      "text/plain": [
       "<matplotlib.legend.Legend at 0x7fe7e0437a90>"
      ]
     },
     "execution_count": 208,
     "metadata": {},
     "output_type": "execute_result"
    },
    {
     "data": {
      "image/png": "[encoded data removed]",
      "text/plain": [
       "<Figure size 1800x1800 with 1 Axes>"
      ]
     },
     "metadata": {
      "needs_background": "light"
     },
     "output_type": "display_data"
    }
   ],
   "source": [
    "fig, ax = plt.subplots(figsize=(18,18),dpi=100)\n",
    "legend_elements = []\n",
    "\n",
    "study_area.plot(figsize = (18,18),ax=ax,alpha=0.1)\n",
    "\n",
    "demand_points_gdf.plot(figsize = (18,18),ax=ax)\n",
    "legend_elements.append(mlines.Line2D(\n",
    "        [],\n",
    "        [],\n",
    "        marker='o',\n",
    "        markersize=7,\n",
    "        linewidth=0,\n",
    "        label='Location of demand points'\n",
    "        ))\n",
    "\n",
    "facility_points_selected.plot(ax=ax,\n",
    "                marker=\"*\",\n",
    "                markersize=1200,\n",
    "                alpha=0.9,\n",
    "                zorder=4,\n",
    "                edgecolor=\"k\",\n",
    "                facecolor='red')\n",
    "legend_elements.append(mlines.Line2D(\n",
    "        [],\n",
    "        [],\n",
    "        color='red',\n",
    "        marker='*',\n",
    "        markersize=12,\n",
    "        markeredgecolor=\"k\",\n",
    "        linewidth=0,\n",
    "        label='Location of selected facilities',\n",
    "        ))\n",
    "\n",
    "facility_points_not_selected.plot(ax=ax,\n",
    "                marker=\"*\",\n",
    "                markersize=400,\n",
    "                alpha=0.9,\n",
    "                zorder=4,\n",
    "                edgecolor=\"k\",\n",
    "                facecolor='green')\n",
    "legend_elements.append(mlines.Line2D(\n",
    "        [],\n",
    "        [],\n",
    "        color='green',\n",
    "        marker='*',\n",
    "        markersize=12,\n",
    "        markeredgecolor=\"k\",\n",
    "        linewidth=0,\n",
    "        label='Location of facilities not selected',\n",
    "        ))\n",
    "\n",
    "ax.text(x=54500, y=30500, s='N', fontsize=30)\n",
    "ax.arrow(54200, 30800, 0, 240,length_includes_head=True,head_width=200, head_length=600, overhang=0.1, facecolor='k')\n",
    "\n",
    "scalebar  = ScaleBar(1,location='upper right')\n",
    "plt.gca().add_artist(scalebar)\n",
    "\n",
    "plt.legend(handles = legend_elements, loc='lower right')"
   ]
  },
  {
   "cell_type": "markdown",
   "metadata": {},
   "source": [
    "### 准备数据"
   ]
  },
  {
   "cell_type": "markdown",
   "metadata": {},
   "source": [
    "要开始假设 期望的参数对问题进行建模spopt.locate，我们应该传递一个 numpy 二维数组作为 cost_matrix。因此，首先我们旋转 network_distance 数据帧。\n",
    "请注意，列和行是按字母顺序排列的。"
   ]
  },
  {
   "cell_type": "code",
   "execution_count": 7,
   "metadata": {},
   "outputs": [
    {
     "data": {
      "text/html": [
       "<div>\n",
       "<style scoped>\n",
       "    .dataframe tbody tr th:only-of-type {\n",
       "        vertical-align: middle;\n",
       "    }\n",
       "\n",
       "    .dataframe tbody tr th {\n",
       "        vertical-align: top;\n",
       "    }\n",
       "\n",
       "    .dataframe thead th {\n",
       "        text-align: right;\n",
       "    }\n",
       "</style>\n",
       "<table border=\"1\" class=\"dataframe\">\n",
       "  <thead>\n",
       "    <tr style=\"text-align: right;\">\n",
       "      <th>name</th>\n",
       "      <th>Store_1</th>\n",
       "      <th>Store_11</th>\n",
       "      <th>Store_12</th>\n",
       "      <th>Store_13</th>\n",
       "      <th>Store_14</th>\n",
       "      <th>Store_15</th>\n",
       "      <th>Store_16</th>\n",
       "      <th>Store_17</th>\n",
       "      <th>Store_18</th>\n",
       "      <th>Store_19</th>\n",
       "      <th>Store_2</th>\n",
       "      <th>Store_3</th>\n",
       "      <th>Store_4</th>\n",
       "      <th>Store_5</th>\n",
       "      <th>Store_6</th>\n",
       "      <th>Store_7</th>\n",
       "    </tr>\n",
       "    <tr>\n",
       "      <th>DestinationName</th>\n",
       "      <th></th>\n",
       "      <th></th>\n",
       "      <th></th>\n",
       "      <th></th>\n",
       "      <th></th>\n",
       "      <th></th>\n",
       "      <th></th>\n",
       "      <th></th>\n",
       "      <th></th>\n",
       "      <th></th>\n",
       "      <th></th>\n",
       "      <th></th>\n",
       "      <th></th>\n",
       "      <th></th>\n",
       "      <th></th>\n",
       "      <th></th>\n",
       "    </tr>\n",
       "  </thead>\n",
       "  <tbody>\n",
       "    <tr>\n",
       "      <th>60750101.0</th>\n",
       "      <td>11495.190454</td>\n",
       "      <td>20022.666503</td>\n",
       "      <td>10654.593733</td>\n",
       "      <td>8232.543149</td>\n",
       "      <td>7561.399789</td>\n",
       "      <td>4139.772198</td>\n",
       "      <td>4805.805279</td>\n",
       "      <td>2055.530234</td>\n",
       "      <td>225.609240</td>\n",
       "      <td>1757.623456</td>\n",
       "      <td>11522.519829</td>\n",
       "      <td>7529.985950</td>\n",
       "      <td>10847.234951</td>\n",
       "      <td>10604.729605</td>\n",
       "      <td>20970.277793</td>\n",
       "      <td>15242.989416</td>\n",
       "    </tr>\n",
       "    <tr>\n",
       "      <th>60750102.0</th>\n",
       "      <td>10436.169910</td>\n",
       "      <td>19392.094770</td>\n",
       "      <td>10024.022001</td>\n",
       "      <td>7601.971416</td>\n",
       "      <td>6930.828057</td>\n",
       "      <td>3093.851654</td>\n",
       "      <td>4175.233547</td>\n",
       "      <td>1257.809690</td>\n",
       "      <td>1041.911304</td>\n",
       "      <td>2333.244000</td>\n",
       "      <td>10509.099285</td>\n",
       "      <td>6470.965406</td>\n",
       "      <td>10216.663219</td>\n",
       "      <td>9974.157873</td>\n",
       "      <td>20339.706061</td>\n",
       "      <td>14612.417684</td>\n",
       "    </tr>\n",
       "    <tr>\n",
       "      <th>60750103.0</th>\n",
       "      <td>10746.296811</td>\n",
       "      <td>19404.672860</td>\n",
       "      <td>10036.600090</td>\n",
       "      <td>7614.549505</td>\n",
       "      <td>6943.406146</td>\n",
       "      <td>3381.778555</td>\n",
       "      <td>4187.811636</td>\n",
       "      <td>2046.436590</td>\n",
       "      <td>744.584403</td>\n",
       "      <td>1685.517099</td>\n",
       "      <td>10800.926186</td>\n",
       "      <td>6778.892307</td>\n",
       "      <td>10229.241308</td>\n",
       "      <td>9986.735962</td>\n",
       "      <td>20352.284150</td>\n",
       "      <td>14624.995773</td>\n",
       "    </tr>\n",
       "    <tr>\n",
       "      <th>60750104.0</th>\n",
       "      <td>11420.492134</td>\n",
       "      <td>19808.368182</td>\n",
       "      <td>10440.295413</td>\n",
       "      <td>8018.244828</td>\n",
       "      <td>7347.101469</td>\n",
       "      <td>4044.473877</td>\n",
       "      <td>4591.506959</td>\n",
       "      <td>2463.736278</td>\n",
       "      <td>795.715285</td>\n",
       "      <td>1282.217412</td>\n",
       "      <td>11308.221508</td>\n",
       "      <td>7447.187630</td>\n",
       "      <td>10632.936630</td>\n",
       "      <td>10390.431285</td>\n",
       "      <td>20755.979472</td>\n",
       "      <td>15028.691095</td>\n",
       "    </tr>\n",
       "    <tr>\n",
       "      <th>60750105.0</th>\n",
       "      <td>11379.443952</td>\n",
       "      <td>19583.920000</td>\n",
       "      <td>10215.847231</td>\n",
       "      <td>7793.796646</td>\n",
       "      <td>7122.653287</td>\n",
       "      <td>4103.725695</td>\n",
       "      <td>4367.058776</td>\n",
       "      <td>3320.283731</td>\n",
       "      <td>1731.462738</td>\n",
       "      <td>249.669959</td>\n",
       "      <td>11083.773326</td>\n",
       "      <td>7379.539448</td>\n",
       "      <td>10408.488448</td>\n",
       "      <td>10165.983103</td>\n",
       "      <td>20531.531290</td>\n",
       "      <td>14804.242913</td>\n",
       "    </tr>\n",
       "    <tr>\n",
       "      <th>...</th>\n",
       "      <td>...</td>\n",
       "      <td>...</td>\n",
       "      <td>...</td>\n",
       "      <td>...</td>\n",
       "      <td>...</td>\n",
       "      <td>...</td>\n",
       "      <td>...</td>\n",
       "      <td>...</td>\n",
       "      <td>...</td>\n",
       "      <td>...</td>\n",
       "      <td>...</td>\n",
       "      <td>...</td>\n",
       "      <td>...</td>\n",
       "      <td>...</td>\n",
       "      <td>...</td>\n",
       "      <td>...</td>\n",
       "    </tr>\n",
       "    <tr>\n",
       "      <th>60816025.0</th>\n",
       "      <td>17324.066610</td>\n",
       "      <td>2722.031291</td>\n",
       "      <td>10884.063331</td>\n",
       "      <td>14178.007937</td>\n",
       "      <td>13891.857275</td>\n",
       "      <td>18418.384867</td>\n",
       "      <td>16726.951785</td>\n",
       "      <td>20834.395022</td>\n",
       "      <td>21441.247824</td>\n",
       "      <td>20875.680521</td>\n",
       "      <td>14662.484617</td>\n",
       "      <td>16569.371114</td>\n",
       "      <td>12483.322114</td>\n",
       "      <td>11926.727459</td>\n",
       "      <td>4968.842581</td>\n",
       "      <td>8648.054204</td>\n",
       "    </tr>\n",
       "    <tr>\n",
       "      <th>60816026.0</th>\n",
       "      <td>15981.172325</td>\n",
       "      <td>3647.137006</td>\n",
       "      <td>10299.369046</td>\n",
       "      <td>13593.313651</td>\n",
       "      <td>13307.162990</td>\n",
       "      <td>17833.690581</td>\n",
       "      <td>16142.257500</td>\n",
       "      <td>20249.700736</td>\n",
       "      <td>20856.553539</td>\n",
       "      <td>20290.986235</td>\n",
       "      <td>14050.290332</td>\n",
       "      <td>15963.776829</td>\n",
       "      <td>11871.527828</td>\n",
       "      <td>11342.033174</td>\n",
       "      <td>3625.948296</td>\n",
       "      <td>7919.659919</td>\n",
       "    </tr>\n",
       "    <tr>\n",
       "      <th>60816027.0</th>\n",
       "      <td>14835.342712</td>\n",
       "      <td>4581.333336</td>\n",
       "      <td>9637.139433</td>\n",
       "      <td>12931.084039</td>\n",
       "      <td>12644.933377</td>\n",
       "      <td>17171.460969</td>\n",
       "      <td>15480.027887</td>\n",
       "      <td>19587.471124</td>\n",
       "      <td>20194.323926</td>\n",
       "      <td>19628.756623</td>\n",
       "      <td>13341.313338</td>\n",
       "      <td>15301.547216</td>\n",
       "      <td>11209.298215</td>\n",
       "      <td>10679.803561</td>\n",
       "      <td>2290.818683</td>\n",
       "      <td>7242.830306</td>\n",
       "    </tr>\n",
       "    <tr>\n",
       "      <th>60816028.0</th>\n",
       "      <td>13339.491691</td>\n",
       "      <td>6392.856372</td>\n",
       "      <td>8577.488412</td>\n",
       "      <td>11871.433018</td>\n",
       "      <td>11585.282356</td>\n",
       "      <td>16111.809948</td>\n",
       "      <td>14420.376867</td>\n",
       "      <td>18527.820103</td>\n",
       "      <td>19134.672905</td>\n",
       "      <td>18569.105602</td>\n",
       "      <td>11845.462317</td>\n",
       "      <td>14241.196195</td>\n",
       "      <td>10155.147195</td>\n",
       "      <td>9620.152540</td>\n",
       "      <td>1846.795647</td>\n",
       "      <td>5746.979285</td>\n",
       "    </tr>\n",
       "    <tr>\n",
       "      <th>60816029.0</th>\n",
       "      <td>15257.855684</td>\n",
       "      <td>6394.920365</td>\n",
       "      <td>10253.752405</td>\n",
       "      <td>13547.697010</td>\n",
       "      <td>13261.546349</td>\n",
       "      <td>17788.073940</td>\n",
       "      <td>16096.640859</td>\n",
       "      <td>20204.084095</td>\n",
       "      <td>20810.936898</td>\n",
       "      <td>20245.369594</td>\n",
       "      <td>13763.826309</td>\n",
       "      <td>15918.160188</td>\n",
       "      <td>11825.911187</td>\n",
       "      <td>11296.416533</td>\n",
       "      <td>508.931655</td>\n",
       "      <td>7665.343278</td>\n",
       "    </tr>\n",
       "  </tbody>\n",
       "</table>\n",
       "<p>205 rows × 16 columns</p>\n",
       "</div>"
      ],
      "text/plain": [
       "name                  Store_1      Store_11      Store_12      Store_13  \\\n",
       "DestinationName                                                           \n",
       "60750101.0       11495.190454  20022.666503  10654.593733   8232.543149   \n",
       "60750102.0       10436.169910  19392.094770  10024.022001   7601.971416   \n",
       "60750103.0       10746.296811  19404.672860  10036.600090   7614.549505   \n",
       "60750104.0       11420.492134  19808.368182  10440.295413   8018.244828   \n",
       "60750105.0       11379.443952  19583.920000  10215.847231   7793.796646   \n",
       "...                       ...           ...           ...           ...   \n",
       "60816025.0       17324.066610   2722.031291  10884.063331  14178.007937   \n",
       "60816026.0       15981.172325   3647.137006  10299.369046  13593.313651   \n",
       "60816027.0       14835.342712   4581.333336   9637.139433  12931.084039   \n",
       "60816028.0       13339.491691   6392.856372   8577.488412  11871.433018   \n",
       "60816029.0       15257.855684   6394.920365  10253.752405  13547.697010   \n",
       "\n",
       "name                 Store_14      Store_15      Store_16      Store_17  \\\n",
       "DestinationName                                                           \n",
       "60750101.0        7561.399789   4139.772198   4805.805279   2055.530234   \n",
       "60750102.0        6930.828057   3093.851654   4175.233547   1257.809690   \n",
       "60750103.0        6943.406146   3381.778555   4187.811636   2046.436590   \n",
       "60750104.0        7347.101469   4044.473877   4591.506959   2463.736278   \n",
       "60750105.0        7122.653287   4103.725695   4367.058776   3320.283731   \n",
       "...                       ...           ...           ...           ...   \n",
       "60816025.0       13891.857275  18418.384867  16726.951785  20834.395022   \n",
       "60816026.0       13307.162990  17833.690581  16142.257500  20249.700736   \n",
       "60816027.0       12644.933377  17171.460969  15480.027887  19587.471124   \n",
       "60816028.0       11585.282356  16111.809948  14420.376867  18527.820103   \n",
       "60816029.0       13261.546349  17788.073940  16096.640859  20204.084095   \n",
       "\n",
       "name                 Store_18      Store_19       Store_2       Store_3  \\\n",
       "DestinationName                                                           \n",
       "60750101.0         225.609240   1757.623456  11522.519829   7529.985950   \n",
       "60750102.0        1041.911304   2333.244000  10509.099285   6470.965406   \n",
       "60750103.0         744.584403   1685.517099  10800.926186   6778.892307   \n",
       "60750104.0         795.715285   1282.217412  11308.221508   7447.187630   \n",
       "60750105.0        1731.462738    249.669959  11083.773326   7379.539448   \n",
       "...                       ...           ...           ...           ...   \n",
       "60816025.0       21441.247824  20875.680521  14662.484617  16569.371114   \n",
       "60816026.0       20856.553539  20290.986235  14050.290332  15963.776829   \n",
       "60816027.0       20194.323926  19628.756623  13341.313338  15301.547216   \n",
       "60816028.0       19134.672905  18569.105602  11845.462317  14241.196195   \n",
       "60816029.0       20810.936898  20245.369594  13763.826309  15918.160188   \n",
       "\n",
       "name                  Store_4       Store_5       Store_6       Store_7  \n",
       "DestinationName                                                          \n",
       "60750101.0       10847.234951  10604.729605  20970.277793  15242.989416  \n",
       "60750102.0       10216.663219   9974.157873  20339.706061  14612.417684  \n",
       "60750103.0       10229.241308   9986.735962  20352.284150  14624.995773  \n",
       "60750104.0       10632.936630  10390.431285  20755.979472  15028.691095  \n",
       "60750105.0       10408.488448  10165.983103  20531.531290  14804.242913  \n",
       "...                       ...           ...           ...           ...  \n",
       "60816025.0       12483.322114  11926.727459   4968.842581   8648.054204  \n",
       "60816026.0       11871.527828  11342.033174   3625.948296   7919.659919  \n",
       "60816027.0       11209.298215  10679.803561   2290.818683   7242.830306  \n",
       "60816028.0       10155.147195   9620.152540   1846.795647   5746.979285  \n",
       "60816029.0       11825.911187  11296.416533    508.931655   7665.343278  \n",
       "\n",
       "[205 rows x 16 columns]"
      ]
     },
     "execution_count": 7,
     "metadata": {},
     "output_type": "execute_result"
    }
   ],
   "source": [
    "ntw_dist_piv = network_distance.pivot_table(values=\"distance\", index=\"DestinationName\", columns=\"name\")\n",
    "ntw_dist_piv"
   ]
  },
  {
   "cell_type": "markdown",
   "metadata": {},
   "source": [
    "在这里，数据透视表被转换为 numpy 二维数组，如spopt.locate预期的那样。矩阵的形状为 205x16。"
   ]
  },
  {
   "cell_type": "code",
   "execution_count": 8,
   "metadata": {},
   "outputs": [
    {
     "data": {
      "text/plain": [
       "array([[11495.19045438, 20022.66650296, 10654.59373325, ...,\n",
       "        10604.72960533, 20970.27779306, 15242.98941606],\n",
       "       [10436.16991032, 19392.09477041, 10024.0220007 , ...,\n",
       "         9974.15787278, 20339.70606051, 14612.41768351],\n",
       "       [10746.29681106, 19404.67285964, 10036.60008993, ...,\n",
       "         9986.73596201, 20352.28414974, 14624.99577275],\n",
       "       ...,\n",
       "       [14835.34271218,  4581.3333364 ,  9637.13943331, ...,\n",
       "        10679.80356124,  2290.81868301,  7242.83030602],\n",
       "       [13339.49169134,  6392.85637207,  8577.48841247, ...,\n",
       "         9620.15254039,  1846.79564734,  5746.97928517],\n",
       "       [15257.85568393,  6394.92036466, 10253.75240505, ...,\n",
       "        11296.41653298,   508.93165475,  7665.34327776]])"
      ]
     },
     "execution_count": 8,
     "metadata": {},
     "output_type": "execute_result"
    }
   ],
   "source": [
    "cost_matrix = ntw_dist_piv.to_numpy()\n",
    "cost_matrix"
   ]
  },
  {
   "cell_type": "code",
   "execution_count": 9,
   "metadata": {},
   "outputs": [
    {
     "data": {
      "text/plain": [
       "20022.666502961507"
      ]
     },
     "execution_count": 9,
     "metadata": {},
     "output_type": "execute_result"
    }
   ],
   "source": [
    "cost_matrix[0,1]\n",
    "# destination1和store11，第二个取服务点"
   ]
  },
  {
   "cell_type": "markdown",
   "metadata": {},
   "source": [
    "## 用Gurobi应用到本实例"
   ]
  },
  {
   "cell_type": "code",
   "execution_count": 10,
   "metadata": {},
   "outputs": [
    {
     "data": {
      "text/plain": [
       "16"
      ]
     },
     "execution_count": 10,
     "metadata": {},
     "output_type": "execute_result"
    }
   ],
   "source": [
    "# 设置参数\n",
    "num_facilities=len(facility_points)\n",
    "num_demand_points=len(demand_points)\n",
    "\n",
    "num_facilities"
   ]
  },
  {
   "cell_type": "code",
   "execution_count": 11,
   "metadata": {},
   "outputs": [
    {
     "data": {
      "text/plain": [
       "205"
      ]
     },
     "execution_count": 11,
     "metadata": {},
     "output_type": "execute_result"
    }
   ],
   "source": [
    "num_demand_points"
   ]
  },
  {
   "cell_type": "code",
   "execution_count": 12,
   "metadata": {},
   "outputs": [
    {
     "name": "stdout",
     "output_type": "stream",
     "text": [
      "Set parameter Username\n",
      "Academic license - for non-commercial use only - expires 2023-06-14\n",
      "Gurobi Optimizer version 9.5.1 build v9.5.1rc2 (mac64[x86])\n",
      "Thread count: 4 physical cores, 8 logical processors, using up to 8 threads\n",
      "Optimize a model with 205 rows, 16 columns and 907 nonzeros\n",
      "Model fingerprint: 0x3069faf2\n",
      "Variable types: 0 continuous, 16 integer (16 binary)\n",
      "Coefficient statistics:\n",
      "  Matrix range     [1e+00, 1e+00]\n",
      "  Objective range  [1e+00, 1e+00]\n",
      "  Bounds range     [1e+00, 1e+00]\n",
      "  RHS range        [1e+00, 1e+00]\n",
      "Found heuristic solution: objective 8.0000000\n",
      "Presolve removed 205 rows and 16 columns\n",
      "Presolve time: 0.00s\n",
      "Presolve: All rows and columns removed\n",
      "\n",
      "Explored 0 nodes (0 simplex iterations) in 0.01 seconds (0.00 work units)\n",
      "Thread count was 1 (of 8 available processors)\n",
      "\n",
      "Solution count 1: 8 \n",
      "\n",
      "Optimal solution found (tolerance 1.00e-04)\n",
      "Best objective 8.000000000000e+00, best bound 8.000000000000e+00, gap 0.0000%\n"
     ]
    }
   ],
   "source": [
    "import gurobipy as gp\n",
    "from gurobipy import GRB\n",
    "\n",
    "m = gp.Model('facility_location')\n",
    "# 添加决策变量\n",
    "select = m.addVars(num_facilities, vtype=GRB.BINARY, name='Select')\n",
    "# 设置限制条件\n",
    "    # 每个i在距离x(5000)内至少被1个j覆盖\n",
    "m.addConstrs((gp.quicksum(select[j] for j in range(num_facilities) if cost_matrix[i,j] < 5000) >= 1  for i in range(num_demand_points)), name='Demand')\n",
    "# 设置模型目标\n",
    "m.setObjective(gp.quicksum(select[j] for j in range(num_facilities)), GRB.MINIMIZE)\n",
    "m.optimize()"
   ]
  },
  {
   "cell_type": "code",
   "execution_count": 13,
   "metadata": {},
   "outputs": [
    {
     "data": {
      "text/plain": [
       "{0: <gurobi.Var Select[0] (value 0.0)>,\n",
       " 1: <gurobi.Var Select[1] (value 1.0)>,\n",
       " 2: <gurobi.Var Select[2] (value 1.0)>,\n",
       " 3: <gurobi.Var Select[3] (value -0.0)>,\n",
       " 4: <gurobi.Var Select[4] (value 1.0)>,\n",
       " 5: <gurobi.Var Select[5] (value 0.0)>,\n",
       " 6: <gurobi.Var Select[6] (value 1.0)>,\n",
       " 7: <gurobi.Var Select[7] (value -0.0)>,\n",
       " 8: <gurobi.Var Select[8] (value 0.0)>,\n",
       " 9: <gurobi.Var Select[9] (value 0.0)>,\n",
       " 10: <gurobi.Var Select[10] (value 1.0)>,\n",
       " 11: <gurobi.Var Select[11] (value 1.0)>,\n",
       " 12: <gurobi.Var Select[12] (value 0.0)>,\n",
       " 13: <gurobi.Var Select[13] (value 0.0)>,\n",
       " 14: <gurobi.Var Select[14] (value 1.0)>,\n",
       " 15: <gurobi.Var Select[15] (value 1.0)>}"
      ]
     },
     "execution_count": 13,
     "metadata": {},
     "output_type": "execute_result"
    }
   ],
   "source": [
    "select"
   ]
  },
  {
   "cell_type": "markdown",
   "metadata": {},
   "source": [
    "取了cost_matrix中的第2、3、5、7、11、12、15、16个\n",
    "也即store 11 12 14 16 2 3 6 7\n",
    "与pulp调用的结果相同"
   ]
  },
  {
   "cell_type": "markdown",
   "metadata": {},
   "source": [
    "## 手动多重解"
   ]
  },
  {
   "cell_type": "code",
   "execution_count": 14,
   "metadata": {},
   "outputs": [
    {
     "name": "stdout",
     "output_type": "stream",
     "text": [
      "Set parameter PoolGap to value 0\n",
      "Set parameter PoolSearchMode to value 2\n"
     ]
    }
   ],
   "source": [
    "# Limit how many solutions to collect 想要收集多少个解\n",
    "m.setParam(GRB.Param.PoolSolutions, 10)\n",
    "\n",
    "# Limit the search space by setting a gap for the worst possible solution that will be accepted\n",
    "m.setParam(GRB.Param.PoolGap, 0)\n",
    "\n",
    "# do a systematic search for the k-best solutions\n",
    "m.setParam(GRB.Param.PoolSearchMode, 2)"
   ]
  },
  {
   "cell_type": "code",
   "execution_count": 15,
   "metadata": {},
   "outputs": [
    {
     "name": "stdout",
     "output_type": "stream",
     "text": [
      "Gurobi Optimizer version 9.5.1 build v9.5.1rc2 (mac64[x86])\n",
      "Thread count: 4 physical cores, 8 logical processors, using up to 8 threads\n",
      "Optimize a model with 205 rows, 16 columns and 907 nonzeros\n",
      "Model fingerprint: 0x3069faf2\n",
      "Variable types: 0 continuous, 16 integer (16 binary)\n",
      "Coefficient statistics:\n",
      "  Matrix range     [1e+00, 1e+00]\n",
      "  Objective range  [1e+00, 1e+00]\n",
      "  Bounds range     [1e+00, 1e+00]\n",
      "  RHS range        [1e+00, 1e+00]\n",
      "\n",
      "Loaded MIP start from previous solve with objective 8\n",
      "\n",
      "Presolve removed 199 rows and 5 columns\n",
      "Presolve time: 0.00s\n",
      "Presolved: 6 rows, 11 columns, 19 nonzeros\n",
      "Variable types: 0 continuous, 11 integer (11 binary)\n",
      "\n",
      "Root relaxation: objective 8.000000e+00, 6 iterations, 0.00 seconds (0.00 work units)\n",
      "\n",
      "    Nodes    |    Current Node    |     Objective Bounds      |     Work\n",
      " Expl Unexpl |  Obj  Depth IntInf | Incumbent    BestBd   Gap | It/Node Time\n",
      "\n",
      "     0     0          -    0         8.00000    8.00000  0.00%     -    0s\n",
      "\n",
      "Optimal solution found at node 0 - now completing solution pool...\n",
      "\n",
      "    Nodes    |    Current Node    |      Pool Obj. Bounds     |     Work\n",
      "             |                    |   Worst                   |\n",
      " Expl Unexpl |  Obj  Depth IntInf | Incumbent    BestBd   Gap | It/Node Time\n",
      "\n",
      "     0     0          -    0               -    8.00000      -     -    0s\n",
      "     0     0          -    0               -    8.00000      -     -    0s\n",
      "     0     2          -    0               -    8.00000      -     -    0s\n",
      "\n",
      "Explored 61 nodes (34 simplex iterations) in 0.03 seconds (0.00 work units)\n",
      "Thread count was 8 (of 8 available processors)\n",
      "\n",
      "Solution count 8: 8 8 8 ... 8\n",
      "No other solutions better than 1e+100\n",
      "\n",
      "Optimal solution found (tolerance 1.00e-04)\n",
      "Best objective 8.000000000000e+00, best bound 8.000000000000e+00, gap 0.0000%\n"
     ]
    }
   ],
   "source": [
    "m.optimize()"
   ]
  },
  {
   "cell_type": "code",
   "execution_count": 16,
   "metadata": {},
   "outputs": [
    {
     "name": "stdout",
     "output_type": "stream",
     "text": [
      "8\n"
     ]
    }
   ],
   "source": [
    "nSolutions = m.SolCount\n",
    "print(nSolutions)"
   ]
  },
  {
   "cell_type": "markdown",
   "metadata": {},
   "source": [
    "依次查看每个solution的选点情况\n",
    "\n",
    "发现设施总数的最小值是8个"
   ]
  },
  {
   "cell_type": "code",
   "execution_count": 17,
   "metadata": {},
   "outputs": [
    {
     "name": "stdout",
     "output_type": "stream",
     "text": [
      "Selected elements in first best solution:\n",
      "\t 1 2 4 9 11 12 14 15\n"
     ]
    }
   ],
   "source": [
    "m.setParam(GRB.Param.SolutionNumber, 0)\n",
    "\n",
    "print('Selected elements in first best solution:')\n",
    "print('\\t', end='')\n",
    "for j in range(num_facilities):\n",
    "    if select[j].Xn >= 1:\n",
    "        print(' %d' % j, end='')\n",
    "print('')"
   ]
  },
  {
   "cell_type": "code",
   "execution_count": 18,
   "metadata": {},
   "outputs": [
    {
     "name": "stdout",
     "output_type": "stream",
     "text": [
      "Selected elements in second best solution:\n",
      "\t 1 2 4 6 10 11 14 15\n"
     ]
    }
   ],
   "source": [
    "m.setParam(GRB.Param.SolutionNumber, 1)\n",
    "\n",
    "print('Selected elements in second best solution:')\n",
    "print('\\t', end='')\n",
    "for j in range(num_facilities):\n",
    "    if select[j].Xn >= 1:\n",
    "        print(' %d' % j, end='')\n",
    "print('')"
   ]
  },
  {
   "cell_type": "code",
   "execution_count": 19,
   "metadata": {},
   "outputs": [
    {
     "name": "stdout",
     "output_type": "stream",
     "text": [
      "Selected elements in third best solution:\n",
      "\t 1 2 4 5 10 11 14 15\n"
     ]
    }
   ],
   "source": [
    "m.setParam(GRB.Param.SolutionNumber, 2)\n",
    "\n",
    "print('Selected elements in third best solution:')\n",
    "print('\\t', end='')\n",
    "for j in range(num_facilities):\n",
    "    if select[j].Xn >= 1:\n",
    "        print(' %d' % j, end='')\n",
    "print('')"
   ]
  },
  {
   "cell_type": "code",
   "execution_count": 20,
   "metadata": {},
   "outputs": [
    {
     "name": "stdout",
     "output_type": "stream",
     "text": [
      "Selected elements in fourth best solution:\n",
      "\t 1 2 4 8 10 11 14 15\n"
     ]
    }
   ],
   "source": [
    "m.setParam(GRB.Param.SolutionNumber, 3)\n",
    "\n",
    "print('Selected elements in fourth best solution:')\n",
    "print('\\t', end='')\n",
    "for j in range(num_facilities):\n",
    "    if select[j].Xn >= 1:\n",
    "        print(' %d' % j, end='')\n",
    "print('')"
   ]
  },
  {
   "cell_type": "code",
   "execution_count": 21,
   "metadata": {},
   "outputs": [
    {
     "name": "stdout",
     "output_type": "stream",
     "text": [
      "Selected elements in fifth best solution:\n",
      "\t 1 2 4 9 10 11 14 15\n"
     ]
    }
   ],
   "source": [
    "m.setParam(GRB.Param.SolutionNumber, 4)\n",
    "\n",
    "print('Selected elements in fifth best solution:')\n",
    "print('\\t', end='')\n",
    "for j in range(num_facilities):\n",
    "    if select[j].Xn >= 1:\n",
    "        print(' %d' % j, end='')\n",
    "print('')"
   ]
  },
  {
   "cell_type": "code",
   "execution_count": 22,
   "metadata": {},
   "outputs": [
    {
     "name": "stdout",
     "output_type": "stream",
     "text": [
      "Selected elements in sixth best solution:\n",
      "\t 1 2 4 5 11 12 14 15\n"
     ]
    }
   ],
   "source": [
    "m.setParam(GRB.Param.SolutionNumber, 5)\n",
    "\n",
    "print('Selected elements in sixth best solution:')\n",
    "print('\\t', end='')\n",
    "for j in range(num_facilities):\n",
    "    if select[j].Xn >= 1:\n",
    "        print(' %d' % j, end='')\n",
    "print('')"
   ]
  },
  {
   "cell_type": "code",
   "execution_count": 23,
   "metadata": {},
   "outputs": [
    {
     "name": "stdout",
     "output_type": "stream",
     "text": [
      "Selected elements in seventh best solution:\n",
      "\t 1 2 4 6 11 12 14 15\n"
     ]
    }
   ],
   "source": [
    "m.setParam(GRB.Param.SolutionNumber, 6)\n",
    "\n",
    "print('Selected elements in seventh best solution:')\n",
    "print('\\t', end='')\n",
    "for j in range(num_facilities):\n",
    "    if select[j].Xn >= 1:\n",
    "        print(' %d' % j, end='')\n",
    "print('')"
   ]
  },
  {
   "cell_type": "code",
   "execution_count": 24,
   "metadata": {},
   "outputs": [
    {
     "name": "stdout",
     "output_type": "stream",
     "text": [
      "Selected elements in eighth best solution:\n",
      "\t 1 2 4 8 11 12 14 15\n"
     ]
    }
   ],
   "source": [
    "m.setParam(GRB.Param.SolutionNumber, 7)\n",
    "\n",
    "print('Selected elements in eighth best solution:')\n",
    "print('\\t', end='')\n",
    "for j in range(num_facilities):\n",
    "    if select[j].Xn >= 1:\n",
    "        print(' %d' % j, end='')\n",
    "print('')"
   ]
  },
  {
   "cell_type": "markdown",
   "metadata": {},
   "source": [
    "## Extended-LSCP"
   ]
  },
  {
   "cell_type": "code",
   "execution_count": 25,
   "metadata": {},
   "outputs": [
    {
     "data": {
      "text/plain": [
       "{0: <gurobi.Constr *Awaiting Model Update*>,\n",
       " 1: <gurobi.Constr *Awaiting Model Update*>,\n",
       " 2: <gurobi.Constr *Awaiting Model Update*>,\n",
       " 3: <gurobi.Constr *Awaiting Model Update*>,\n",
       " 4: <gurobi.Constr *Awaiting Model Update*>,\n",
       " 5: <gurobi.Constr *Awaiting Model Update*>,\n",
       " 6: <gurobi.Constr *Awaiting Model Update*>,\n",
       " 7: <gurobi.Constr *Awaiting Model Update*>,\n",
       " 8: <gurobi.Constr *Awaiting Model Update*>,\n",
       " 9: <gurobi.Constr *Awaiting Model Update*>,\n",
       " 10: <gurobi.Constr *Awaiting Model Update*>,\n",
       " 11: <gurobi.Constr *Awaiting Model Update*>,\n",
       " 12: <gurobi.Constr *Awaiting Model Update*>,\n",
       " 13: <gurobi.Constr *Awaiting Model Update*>,\n",
       " 14: <gurobi.Constr *Awaiting Model Update*>,\n",
       " 15: <gurobi.Constr *Awaiting Model Update*>,\n",
       " 16: <gurobi.Constr *Awaiting Model Update*>,\n",
       " 17: <gurobi.Constr *Awaiting Model Update*>,\n",
       " 18: <gurobi.Constr *Awaiting Model Update*>,\n",
       " 19: <gurobi.Constr *Awaiting Model Update*>,\n",
       " 20: <gurobi.Constr *Awaiting Model Update*>,\n",
       " 21: <gurobi.Constr *Awaiting Model Update*>,\n",
       " 22: <gurobi.Constr *Awaiting Model Update*>,\n",
       " 23: <gurobi.Constr *Awaiting Model Update*>,\n",
       " 24: <gurobi.Constr *Awaiting Model Update*>,\n",
       " 25: <gurobi.Constr *Awaiting Model Update*>,\n",
       " 26: <gurobi.Constr *Awaiting Model Update*>,\n",
       " 27: <gurobi.Constr *Awaiting Model Update*>,\n",
       " 28: <gurobi.Constr *Awaiting Model Update*>,\n",
       " 29: <gurobi.Constr *Awaiting Model Update*>,\n",
       " 30: <gurobi.Constr *Awaiting Model Update*>,\n",
       " 31: <gurobi.Constr *Awaiting Model Update*>,\n",
       " 32: <gurobi.Constr *Awaiting Model Update*>,\n",
       " 33: <gurobi.Constr *Awaiting Model Update*>,\n",
       " 34: <gurobi.Constr *Awaiting Model Update*>,\n",
       " 35: <gurobi.Constr *Awaiting Model Update*>,\n",
       " 36: <gurobi.Constr *Awaiting Model Update*>,\n",
       " 37: <gurobi.Constr *Awaiting Model Update*>,\n",
       " 38: <gurobi.Constr *Awaiting Model Update*>,\n",
       " 39: <gurobi.Constr *Awaiting Model Update*>,\n",
       " 40: <gurobi.Constr *Awaiting Model Update*>,\n",
       " 41: <gurobi.Constr *Awaiting Model Update*>,\n",
       " 42: <gurobi.Constr *Awaiting Model Update*>,\n",
       " 43: <gurobi.Constr *Awaiting Model Update*>,\n",
       " 44: <gurobi.Constr *Awaiting Model Update*>,\n",
       " 45: <gurobi.Constr *Awaiting Model Update*>,\n",
       " 46: <gurobi.Constr *Awaiting Model Update*>,\n",
       " 47: <gurobi.Constr *Awaiting Model Update*>,\n",
       " 48: <gurobi.Constr *Awaiting Model Update*>,\n",
       " 49: <gurobi.Constr *Awaiting Model Update*>,\n",
       " 50: <gurobi.Constr *Awaiting Model Update*>,\n",
       " 51: <gurobi.Constr *Awaiting Model Update*>,\n",
       " 52: <gurobi.Constr *Awaiting Model Update*>,\n",
       " 53: <gurobi.Constr *Awaiting Model Update*>,\n",
       " 54: <gurobi.Constr *Awaiting Model Update*>,\n",
       " 55: <gurobi.Constr *Awaiting Model Update*>,\n",
       " 56: <gurobi.Constr *Awaiting Model Update*>,\n",
       " 57: <gurobi.Constr *Awaiting Model Update*>,\n",
       " 58: <gurobi.Constr *Awaiting Model Update*>,\n",
       " 59: <gurobi.Constr *Awaiting Model Update*>,\n",
       " 60: <gurobi.Constr *Awaiting Model Update*>,\n",
       " 61: <gurobi.Constr *Awaiting Model Update*>,\n",
       " 62: <gurobi.Constr *Awaiting Model Update*>,\n",
       " 63: <gurobi.Constr *Awaiting Model Update*>,\n",
       " 64: <gurobi.Constr *Awaiting Model Update*>,\n",
       " 65: <gurobi.Constr *Awaiting Model Update*>,\n",
       " 66: <gurobi.Constr *Awaiting Model Update*>,\n",
       " 67: <gurobi.Constr *Awaiting Model Update*>,\n",
       " 68: <gurobi.Constr *Awaiting Model Update*>,\n",
       " 69: <gurobi.Constr *Awaiting Model Update*>,\n",
       " 70: <gurobi.Constr *Awaiting Model Update*>,\n",
       " 71: <gurobi.Constr *Awaiting Model Update*>,\n",
       " 72: <gurobi.Constr *Awaiting Model Update*>,\n",
       " 73: <gurobi.Constr *Awaiting Model Update*>,\n",
       " 74: <gurobi.Constr *Awaiting Model Update*>,\n",
       " 75: <gurobi.Constr *Awaiting Model Update*>,\n",
       " 76: <gurobi.Constr *Awaiting Model Update*>,\n",
       " 77: <gurobi.Constr *Awaiting Model Update*>,\n",
       " 78: <gurobi.Constr *Awaiting Model Update*>,\n",
       " 79: <gurobi.Constr *Awaiting Model Update*>,\n",
       " 80: <gurobi.Constr *Awaiting Model Update*>,\n",
       " 81: <gurobi.Constr *Awaiting Model Update*>,\n",
       " 82: <gurobi.Constr *Awaiting Model Update*>,\n",
       " 83: <gurobi.Constr *Awaiting Model Update*>,\n",
       " 84: <gurobi.Constr *Awaiting Model Update*>,\n",
       " 85: <gurobi.Constr *Awaiting Model Update*>,\n",
       " 86: <gurobi.Constr *Awaiting Model Update*>,\n",
       " 87: <gurobi.Constr *Awaiting Model Update*>,\n",
       " 88: <gurobi.Constr *Awaiting Model Update*>,\n",
       " 89: <gurobi.Constr *Awaiting Model Update*>,\n",
       " 90: <gurobi.Constr *Awaiting Model Update*>,\n",
       " 91: <gurobi.Constr *Awaiting Model Update*>,\n",
       " 92: <gurobi.Constr *Awaiting Model Update*>,\n",
       " 93: <gurobi.Constr *Awaiting Model Update*>,\n",
       " 94: <gurobi.Constr *Awaiting Model Update*>,\n",
       " 95: <gurobi.Constr *Awaiting Model Update*>,\n",
       " 96: <gurobi.Constr *Awaiting Model Update*>,\n",
       " 97: <gurobi.Constr *Awaiting Model Update*>,\n",
       " 98: <gurobi.Constr *Awaiting Model Update*>,\n",
       " 99: <gurobi.Constr *Awaiting Model Update*>,\n",
       " 100: <gurobi.Constr *Awaiting Model Update*>,\n",
       " 101: <gurobi.Constr *Awaiting Model Update*>,\n",
       " 102: <gurobi.Constr *Awaiting Model Update*>,\n",
       " 103: <gurobi.Constr *Awaiting Model Update*>,\n",
       " 104: <gurobi.Constr *Awaiting Model Update*>,\n",
       " 105: <gurobi.Constr *Awaiting Model Update*>,\n",
       " 106: <gurobi.Constr *Awaiting Model Update*>,\n",
       " 107: <gurobi.Constr *Awaiting Model Update*>,\n",
       " 108: <gurobi.Constr *Awaiting Model Update*>,\n",
       " 109: <gurobi.Constr *Awaiting Model Update*>,\n",
       " 110: <gurobi.Constr *Awaiting Model Update*>,\n",
       " 111: <gurobi.Constr *Awaiting Model Update*>,\n",
       " 112: <gurobi.Constr *Awaiting Model Update*>,\n",
       " 113: <gurobi.Constr *Awaiting Model Update*>,\n",
       " 114: <gurobi.Constr *Awaiting Model Update*>,\n",
       " 115: <gurobi.Constr *Awaiting Model Update*>,\n",
       " 116: <gurobi.Constr *Awaiting Model Update*>,\n",
       " 117: <gurobi.Constr *Awaiting Model Update*>,\n",
       " 118: <gurobi.Constr *Awaiting Model Update*>,\n",
       " 119: <gurobi.Constr *Awaiting Model Update*>,\n",
       " 120: <gurobi.Constr *Awaiting Model Update*>,\n",
       " 121: <gurobi.Constr *Awaiting Model Update*>,\n",
       " 122: <gurobi.Constr *Awaiting Model Update*>,\n",
       " 123: <gurobi.Constr *Awaiting Model Update*>,\n",
       " 124: <gurobi.Constr *Awaiting Model Update*>,\n",
       " 125: <gurobi.Constr *Awaiting Model Update*>,\n",
       " 126: <gurobi.Constr *Awaiting Model Update*>,\n",
       " 127: <gurobi.Constr *Awaiting Model Update*>,\n",
       " 128: <gurobi.Constr *Awaiting Model Update*>,\n",
       " 129: <gurobi.Constr *Awaiting Model Update*>,\n",
       " 130: <gurobi.Constr *Awaiting Model Update*>,\n",
       " 131: <gurobi.Constr *Awaiting Model Update*>,\n",
       " 132: <gurobi.Constr *Awaiting Model Update*>,\n",
       " 133: <gurobi.Constr *Awaiting Model Update*>,\n",
       " 134: <gurobi.Constr *Awaiting Model Update*>,\n",
       " 135: <gurobi.Constr *Awaiting Model Update*>,\n",
       " 136: <gurobi.Constr *Awaiting Model Update*>,\n",
       " 137: <gurobi.Constr *Awaiting Model Update*>,\n",
       " 138: <gurobi.Constr *Awaiting Model Update*>,\n",
       " 139: <gurobi.Constr *Awaiting Model Update*>,\n",
       " 140: <gurobi.Constr *Awaiting Model Update*>,\n",
       " 141: <gurobi.Constr *Awaiting Model Update*>,\n",
       " 142: <gurobi.Constr *Awaiting Model Update*>,\n",
       " 143: <gurobi.Constr *Awaiting Model Update*>,\n",
       " 144: <gurobi.Constr *Awaiting Model Update*>,\n",
       " 145: <gurobi.Constr *Awaiting Model Update*>,\n",
       " 146: <gurobi.Constr *Awaiting Model Update*>,\n",
       " 147: <gurobi.Constr *Awaiting Model Update*>,\n",
       " 148: <gurobi.Constr *Awaiting Model Update*>,\n",
       " 149: <gurobi.Constr *Awaiting Model Update*>,\n",
       " 150: <gurobi.Constr *Awaiting Model Update*>,\n",
       " 151: <gurobi.Constr *Awaiting Model Update*>,\n",
       " 152: <gurobi.Constr *Awaiting Model Update*>,\n",
       " 153: <gurobi.Constr *Awaiting Model Update*>,\n",
       " 154: <gurobi.Constr *Awaiting Model Update*>,\n",
       " 155: <gurobi.Constr *Awaiting Model Update*>,\n",
       " 156: <gurobi.Constr *Awaiting Model Update*>,\n",
       " 157: <gurobi.Constr *Awaiting Model Update*>,\n",
       " 158: <gurobi.Constr *Awaiting Model Update*>,\n",
       " 159: <gurobi.Constr *Awaiting Model Update*>,\n",
       " 160: <gurobi.Constr *Awaiting Model Update*>,\n",
       " 161: <gurobi.Constr *Awaiting Model Update*>,\n",
       " 162: <gurobi.Constr *Awaiting Model Update*>,\n",
       " 163: <gurobi.Constr *Awaiting Model Update*>,\n",
       " 164: <gurobi.Constr *Awaiting Model Update*>,\n",
       " 165: <gurobi.Constr *Awaiting Model Update*>,\n",
       " 166: <gurobi.Constr *Awaiting Model Update*>,\n",
       " 167: <gurobi.Constr *Awaiting Model Update*>,\n",
       " 168: <gurobi.Constr *Awaiting Model Update*>,\n",
       " 169: <gurobi.Constr *Awaiting Model Update*>,\n",
       " 170: <gurobi.Constr *Awaiting Model Update*>,\n",
       " 171: <gurobi.Constr *Awaiting Model Update*>,\n",
       " 172: <gurobi.Constr *Awaiting Model Update*>,\n",
       " 173: <gurobi.Constr *Awaiting Model Update*>,\n",
       " 174: <gurobi.Constr *Awaiting Model Update*>,\n",
       " 175: <gurobi.Constr *Awaiting Model Update*>,\n",
       " 176: <gurobi.Constr *Awaiting Model Update*>,\n",
       " 177: <gurobi.Constr *Awaiting Model Update*>,\n",
       " 178: <gurobi.Constr *Awaiting Model Update*>,\n",
       " 179: <gurobi.Constr *Awaiting Model Update*>,\n",
       " 180: <gurobi.Constr *Awaiting Model Update*>,\n",
       " 181: <gurobi.Constr *Awaiting Model Update*>,\n",
       " 182: <gurobi.Constr *Awaiting Model Update*>,\n",
       " 183: <gurobi.Constr *Awaiting Model Update*>,\n",
       " 184: <gurobi.Constr *Awaiting Model Update*>,\n",
       " 185: <gurobi.Constr *Awaiting Model Update*>,\n",
       " 186: <gurobi.Constr *Awaiting Model Update*>,\n",
       " 187: <gurobi.Constr *Awaiting Model Update*>,\n",
       " 188: <gurobi.Constr *Awaiting Model Update*>,\n",
       " 189: <gurobi.Constr *Awaiting Model Update*>,\n",
       " 190: <gurobi.Constr *Awaiting Model Update*>,\n",
       " 191: <gurobi.Constr *Awaiting Model Update*>,\n",
       " 192: <gurobi.Constr *Awaiting Model Update*>,\n",
       " 193: <gurobi.Constr *Awaiting Model Update*>,\n",
       " 194: <gurobi.Constr *Awaiting Model Update*>,\n",
       " 195: <gurobi.Constr *Awaiting Model Update*>,\n",
       " 196: <gurobi.Constr *Awaiting Model Update*>,\n",
       " 197: <gurobi.Constr *Awaiting Model Update*>,\n",
       " 198: <gurobi.Constr *Awaiting Model Update*>,\n",
       " 199: <gurobi.Constr *Awaiting Model Update*>,\n",
       " 200: <gurobi.Constr *Awaiting Model Update*>,\n",
       " 201: <gurobi.Constr *Awaiting Model Update*>,\n",
       " 202: <gurobi.Constr *Awaiting Model Update*>,\n",
       " 203: <gurobi.Constr *Awaiting Model Update*>,\n",
       " 204: <gurobi.Constr *Awaiting Model Update*>}"
      ]
     },
     "execution_count": 25,
     "metadata": {},
     "output_type": "execute_result"
    }
   ],
   "source": [
    "m_extended = gp.Model('facility_location_extended')\n",
    "# 添加决策变量\n",
    "select_extended = m_extended.addVars(num_facilities, vtype=GRB.BINARY, name='Select_extended')\n",
    "# 设置限制条件\n",
    "    # 每个i在距离x(5000)内至少被1个j覆盖\n",
    "m_extended.addConstrs((gp.quicksum(select_extended[j] for j in range(num_facilities) if cost_matrix[i,j] < 5000) >= 1  for i in range(num_demand_points)), name='Demand_extended')"
   ]
  },
  {
   "cell_type": "code",
   "execution_count": 26,
   "metadata": {},
   "outputs": [],
   "source": [
    "weight = {}\n",
    "for n in range(8):\n",
    "    weight[n] = 99\n",
    "for n in range(8, num_facilities):\n",
    "    weight[n] = 100"
   ]
  },
  {
   "cell_type": "code",
   "execution_count": 27,
   "metadata": {},
   "outputs": [
    {
     "name": "stdout",
     "output_type": "stream",
     "text": [
      "Set parameter PoolGap to value 0\n",
      "Set parameter PoolSearchMode to value 2\n"
     ]
    }
   ],
   "source": [
    "m_extended.setParam(GRB.Param.PoolSolutions, 10)\n",
    "m_extended.setParam(GRB.Param.PoolGap, 0)\n",
    "m_extended.setParam(GRB.Param.PoolSearchMode, 2)"
   ]
  },
  {
   "cell_type": "code",
   "execution_count": 28,
   "metadata": {},
   "outputs": [
    {
     "name": "stdout",
     "output_type": "stream",
     "text": [
      "Gurobi Optimizer version 9.5.1 build v9.5.1rc2 (mac64[x86])\n",
      "Thread count: 4 physical cores, 8 logical processors, using up to 8 threads\n",
      "Optimize a model with 205 rows, 16 columns and 907 nonzeros\n",
      "Model fingerprint: 0x168a96c3\n",
      "Variable types: 0 continuous, 16 integer (16 binary)\n",
      "Coefficient statistics:\n",
      "  Matrix range     [1e+00, 1e+00]\n",
      "  Objective range  [1e+02, 1e+02]\n",
      "  Bounds range     [1e+00, 1e+00]\n",
      "  RHS range        [1e+00, 1e+00]\n",
      "Found heuristic solution: objective 797.0000000\n",
      "Presolve removed 199 rows and 5 columns\n",
      "Presolve time: 0.00s\n",
      "Presolved: 6 rows, 11 columns, 19 nonzeros\n",
      "Variable types: 0 continuous, 11 integer (11 binary)\n",
      "Found heuristic solution: objective 796.0000000\n",
      "\n",
      "Root relaxation: objective 7.960000e+02, 7 iterations, 0.00 seconds (0.00 work units)\n",
      "\n",
      "    Nodes    |    Current Node    |     Objective Bounds      |     Work\n",
      " Expl Unexpl |  Obj  Depth IntInf | Incumbent    BestBd   Gap | It/Node Time\n",
      "\n",
      "     0     0          -    0       796.00000  796.00000  0.00%     -    0s\n",
      "\n",
      "Optimal solution found at node 0 - now completing solution pool...\n",
      "\n",
      "    Nodes    |    Current Node    |      Pool Obj. Bounds     |     Work\n",
      "             |                    |   Worst                   |\n",
      " Expl Unexpl |  Obj  Depth IntInf | Incumbent    BestBd   Gap | It/Node Time\n",
      "\n",
      "     0     0          -    0               -  796.00000      -     -    0s\n",
      "     0     0          -    0               -  796.00000      -     -    0s\n",
      "     0     2          -    0               -  796.00000      -     -    0s\n",
      "\n",
      "Explored 39 nodes (32 simplex iterations) in 0.02 seconds (0.00 work units)\n",
      "Thread count was 8 (of 8 available processors)\n",
      "\n",
      "Solution count 4: 796 796 796 796 \n",
      "No other solutions better than 1e+100\n",
      "\n",
      "Optimal solution found (tolerance 1.00e-04)\n",
      "Best objective 7.960000000000e+02, best bound 7.960000000000e+02, gap 0.0000%\n"
     ]
    }
   ],
   "source": [
    "# 设置模型目标\n",
    "m_extended.setObjective(gp.quicksum(select_extended[j] * weight[j] for j in range(num_facilities)), GRB.MINIMIZE)\n",
    "#m_extended.setObjective(gp.quicksum(99 * select_extended[j] for j in range(8)) + gp.quicksum(100 * select_extended[j] for j in range(8, num_facilities)), GRB.MINIMIZE)\n",
    "m_extended.optimize()"
   ]
  },
  {
   "cell_type": "code",
   "execution_count": 29,
   "metadata": {},
   "outputs": [
    {
     "name": "stdout",
     "output_type": "stream",
     "text": [
      "4\n"
     ]
    }
   ],
   "source": [
    "nSolutions_extended = m_extended.SolCount\n",
    "print(nSolutions_extended)"
   ]
  },
  {
   "cell_type": "markdown",
   "metadata": {},
   "source": [
    "再次查看4个solution的选点情况  \n",
    "  \n",
    "检查：  \n",
    "1）是否在刚才手动8个解中  \n",
    "2）是否满足extended模型，现存设施最多的条件（本例中假设，现存设施为j的序号小于8的设施）  "
   ]
  },
  {
   "cell_type": "code",
   "execution_count": 30,
   "metadata": {},
   "outputs": [
    {
     "name": "stdout",
     "output_type": "stream",
     "text": [
      "Selected elements in first best solution:\n",
      "\t 1 2 4 5 11 12 14 15\n"
     ]
    }
   ],
   "source": [
    "m_extended.setParam(GRB.Param.SolutionNumber, 0)\n",
    "\n",
    "print('Selected elements in first best solution:')\n",
    "print('\\t', end='')\n",
    "for j in range(num_facilities):\n",
    "    if select_extended[j].Xn >= 1:\n",
    "        print(' %d' % j, end='')\n",
    "print('')"
   ]
  },
  {
   "cell_type": "markdown",
   "metadata": {},
   "source": [
    "为手动中的第6个解，现存设施有4个"
   ]
  },
  {
   "cell_type": "code",
   "execution_count": 31,
   "metadata": {},
   "outputs": [
    {
     "name": "stdout",
     "output_type": "stream",
     "text": [
      "Selected elements in second best solution:\n",
      "\t 1 2 4 6 11 12 14 15\n"
     ]
    }
   ],
   "source": [
    "m_extended.setParam(GRB.Param.SolutionNumber, 1)\n",
    "\n",
    "print('Selected elements in second best solution:')\n",
    "print('\\t', end='')\n",
    "for j in range(num_facilities):\n",
    "    if select_extended[j].Xn >= 1:\n",
    "        print(' %d' % j, end='')\n",
    "print('')"
   ]
  },
  {
   "cell_type": "markdown",
   "metadata": {},
   "source": [
    "为手动中的第7个解，现存设施有4个"
   ]
  },
  {
   "cell_type": "code",
   "execution_count": 32,
   "metadata": {},
   "outputs": [
    {
     "name": "stdout",
     "output_type": "stream",
     "text": [
      "Selected elements in third best solution:\n",
      "\t 1 2 4 5 10 11 14 15\n"
     ]
    }
   ],
   "source": [
    "m_extended.setParam(GRB.Param.SolutionNumber, 2)\n",
    "\n",
    "print('Selected elements in third best solution:')\n",
    "print('\\t', end='')\n",
    "for j in range(num_facilities):\n",
    "    if select_extended[j].Xn >= 1:\n",
    "        print(' %d' % j, end='')\n",
    "print('')"
   ]
  },
  {
   "cell_type": "markdown",
   "metadata": {},
   "source": [
    "为手动中的第3个解，现存设施有4个"
   ]
  },
  {
   "cell_type": "code",
   "execution_count": 33,
   "metadata": {},
   "outputs": [
    {
     "name": "stdout",
     "output_type": "stream",
     "text": [
      "Selected elements in third best solution:\n",
      "\t 1 2 4 6 10 11 14 15\n"
     ]
    }
   ],
   "source": [
    "m_extended.setParam(GRB.Param.SolutionNumber, 3)\n",
    "\n",
    "print('Selected elements in third best solution:')\n",
    "print('\\t', end='')\n",
    "for j in range(num_facilities):\n",
    "    if select_extended[j].Xn >= 1:\n",
    "        print(' %d' % j, end='')\n",
    "print('')"
   ]
  },
  {
   "cell_type": "markdown",
   "metadata": {},
   "source": [
    "为手动中的第2个解，现存设施有4个"
   ]
  },
  {
   "cell_type": "markdown",
   "metadata": {},
   "source": [
    "再检查手动模型中剩下的4个解，是否不符合extended最优的要求：  \n",
    "其他4个解的现存设施数为3个，确实不符合extended要求  \n",
    "  \n",
    "\n",
    "由此简单例子，extended模型的代码应该是正确的。"
   ]
  },
  {
   "cell_type": "markdown",
   "metadata": {},
   "source": [
    "再验证一下我写的关于计算现存和潜在设施点数的代码是否正确："
   ]
  },
  {
   "cell_type": "code",
   "execution_count": 34,
   "metadata": {},
   "outputs": [
    {
     "name": "stdout",
     "output_type": "stream",
     "text": [
      "796 796 796 796 \n"
     ]
    }
   ],
   "source": [
    "# Print objective values of solutions\n",
    "for e in range(4):\n",
    "    m_extended.setParam(GRB.Param.SolutionNumber, e)\n",
    "    print('%g ' % m_extended.PoolObjVal, end='')\n",
    "    if e % 15 == 14:\n",
    "        print('')\n",
    "print('')"
   ]
  },
  {
   "cell_type": "code",
   "execution_count": 35,
   "metadata": {},
   "outputs": [],
   "source": [
    "summary_extended = pandas.DataFrame(columns=['existing_count', 'potential_count'], index=range(4))"
   ]
  },
  {
   "cell_type": "code",
   "execution_count": 36,
   "metadata": {},
   "outputs": [],
   "source": [
    "for n in range(4):\n",
    "    m_extended.setParam(GRB.Param.SolutionNumber, n)\n",
    "    \n",
    "    #一共8个existing facilities；计算序号小于等于7的有多少个\n",
    "    sum = 0\n",
    "    for j in range(8):\n",
    "        if select_extended[j].Xn >= 1.0:\n",
    "            sum = sum + 1\n",
    "    summary_extended.iloc[n,0] = sum\n",
    "\n",
    "    #计算potential sites数量\n",
    "    sum_potential = 0\n",
    "    for j in range(8, num_facilities):\n",
    "        if select_extended[j].Xn >= 1.0:\n",
    "            sum_potential = sum_potential + 1\n",
    "    summary_extended.iloc[n,1] = sum_potential"
   ]
  },
  {
   "cell_type": "code",
   "execution_count": 37,
   "metadata": {},
   "outputs": [
    {
     "data": {
      "text/html": [
       "<div>\n",
       "<style scoped>\n",
       "    .dataframe tbody tr th:only-of-type {\n",
       "        vertical-align: middle;\n",
       "    }\n",
       "\n",
       "    .dataframe tbody tr th {\n",
       "        vertical-align: top;\n",
       "    }\n",
       "\n",
       "    .dataframe thead th {\n",
       "        text-align: right;\n",
       "    }\n",
       "</style>\n",
       "<table border=\"1\" class=\"dataframe\">\n",
       "  <thead>\n",
       "    <tr style=\"text-align: right;\">\n",
       "      <th></th>\n",
       "      <th>existing_count</th>\n",
       "      <th>potential_count</th>\n",
       "    </tr>\n",
       "  </thead>\n",
       "  <tbody>\n",
       "    <tr>\n",
       "      <th>0</th>\n",
       "      <td>4</td>\n",
       "      <td>4</td>\n",
       "    </tr>\n",
       "    <tr>\n",
       "      <th>1</th>\n",
       "      <td>4</td>\n",
       "      <td>4</td>\n",
       "    </tr>\n",
       "    <tr>\n",
       "      <th>2</th>\n",
       "      <td>4</td>\n",
       "      <td>4</td>\n",
       "    </tr>\n",
       "    <tr>\n",
       "      <th>3</th>\n",
       "      <td>4</td>\n",
       "      <td>4</td>\n",
       "    </tr>\n",
       "  </tbody>\n",
       "</table>\n",
       "</div>"
      ],
      "text/plain": [
       "  existing_count potential_count\n",
       "0              4               4\n",
       "1              4               4\n",
       "2              4               4\n",
       "3              4               4"
      ]
     },
     "execution_count": 37,
     "metadata": {},
     "output_type": "execute_result"
    }
   ],
   "source": [
    "summary_extended"
   ]
  },
  {
   "cell_type": "markdown",
   "metadata": {},
   "source": [
    "796 = 4 * 99 + 4 * 100  \n",
    "  \n",
    "能证实上述代码在本例中是没有问题的"
   ]
  }
 ],
 "metadata": {
  "interpreter": {
   "hash": "40d3a090f54c6569ab1632332b64b2c03c39dcf918b08424e98f38b5ae0af88f"
  },
  "kernelspec": {
   "display_name": "Python 3.8.3 ('base')",
   "language": "python",
   "name": "python3"
  },
  "language_info": {
   "codemirror_mode": {
    "name": "ipython",
    "version": 3
   },
   "file_extension": ".py",
   "mimetype": "text/x-python",
   "name": "python",
   "nbconvert_exporter": "python",
   "pygments_lexer": "ipython3",
   "version": "3.8.3"
  },
  "orig_nbformat": 4
 },
 "nbformat": 4,
 "nbformat_minor": 2
}
