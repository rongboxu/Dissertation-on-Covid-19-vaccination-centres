{
 "cells": [
  {
   "cell_type": "markdown",
   "metadata": {},
   "source": [
    "### Read the data of vaccination centres"
   ]
  },
  {
   "cell_type": "code",
   "execution_count": 1,
   "metadata": {},
   "outputs": [],
   "source": [
    "import geopandas as gpd"
   ]
  },
  {
   "cell_type": "code",
   "execution_count": 2,
   "metadata": {},
   "outputs": [],
   "source": [
    "centres = gpd.read_file('/Users/xrb/Desktop/UCL/Dissertation/STEP1/vaccination_site.gpkg')\n",
    "centres = centres.to_crs('epsg:27700')"
   ]
  },
  {
   "cell_type": "code",
   "execution_count": 6,
   "metadata": {},
   "outputs": [
    {
     "data": {
      "text/html": [
       "<div>\n",
       "<style scoped>\n",
       "    .dataframe tbody tr th:only-of-type {\n",
       "        vertical-align: middle;\n",
       "    }\n",
       "\n",
       "    .dataframe tbody tr th {\n",
       "        vertical-align: top;\n",
       "    }\n",
       "\n",
       "    .dataframe thead th {\n",
       "        text-align: right;\n",
       "    }\n",
       "</style>\n",
       "<table border=\"1\" class=\"dataframe\">\n",
       "  <thead>\n",
       "    <tr style=\"text-align: right;\">\n",
       "      <th></th>\n",
       "      <th>index</th>\n",
       "      <th>supply_value</th>\n",
       "      <th>geometry</th>\n",
       "    </tr>\n",
       "  </thead>\n",
       "  <tbody>\n",
       "    <tr>\n",
       "      <th>0</th>\n",
       "      <td>0</td>\n",
       "      <td>1</td>\n",
       "      <td>POINT (527671.845 409625.582)</td>\n",
       "    </tr>\n",
       "    <tr>\n",
       "      <th>1</th>\n",
       "      <td>1</td>\n",
       "      <td>1</td>\n",
       "      <td>POINT (532582.907 182659.957)</td>\n",
       "    </tr>\n",
       "    <tr>\n",
       "      <th>2</th>\n",
       "      <td>2</td>\n",
       "      <td>1</td>\n",
       "      <td>POINT (433880.091 387238.877)</td>\n",
       "    </tr>\n",
       "    <tr>\n",
       "      <th>3</th>\n",
       "      <td>3</td>\n",
       "      <td>1</td>\n",
       "      <td>POINT (546372.813 254986.453)</td>\n",
       "    </tr>\n",
       "    <tr>\n",
       "      <th>4</th>\n",
       "      <td>4</td>\n",
       "      <td>1</td>\n",
       "      <td>POINT (338131.255 397000.897)</td>\n",
       "    </tr>\n",
       "  </tbody>\n",
       "</table>\n",
       "</div>"
      ],
      "text/plain": [
       "   index  supply_value                       geometry\n",
       "0      0             1  POINT (527671.845 409625.582)\n",
       "1      1             1  POINT (532582.907 182659.957)\n",
       "2      2             1  POINT (433880.091 387238.877)\n",
       "3      3             1  POINT (546372.813 254986.453)\n",
       "4      4             1  POINT (338131.255 397000.897)"
      ]
     },
     "execution_count": 6,
     "metadata": {},
     "output_type": "execute_result"
    }
   ],
   "source": [
    "centres.head(5)"
   ]
  },
  {
   "cell_type": "markdown",
   "metadata": {},
   "source": [
    "### Read the data of MSOA boundary"
   ]
  },
  {
   "cell_type": "code",
   "execution_count": 4,
   "metadata": {},
   "outputs": [],
   "source": [
    "MSOA = gpd.read_file('/Users/xrb/Desktop/UCL/Dissertation/STEP1/MSOA_boundary.gpkg')\n",
    "MSOA = MSOA.to_crs('epsg:27700')"
   ]
  },
  {
   "cell_type": "code",
   "execution_count": 7,
   "metadata": {},
   "outputs": [
    {
     "data": {
      "text/html": [
       "<div>\n",
       "<style scoped>\n",
       "    .dataframe tbody tr th:only-of-type {\n",
       "        vertical-align: middle;\n",
       "    }\n",
       "\n",
       "    .dataframe tbody tr th {\n",
       "        vertical-align: top;\n",
       "    }\n",
       "\n",
       "    .dataframe thead th {\n",
       "        text-align: right;\n",
       "    }\n",
       "</style>\n",
       "<table border=\"1\" class=\"dataframe\">\n",
       "  <thead>\n",
       "    <tr style=\"text-align: right;\">\n",
       "      <th></th>\n",
       "      <th>OBJECTID</th>\n",
       "      <th>MSOA11CD</th>\n",
       "      <th>MSOA11NM</th>\n",
       "      <th>MSOA11NMW</th>\n",
       "      <th>BNG_E</th>\n",
       "      <th>BNG_N</th>\n",
       "      <th>LONG</th>\n",
       "      <th>LAT</th>\n",
       "      <th>Shape__Area</th>\n",
       "      <th>Shape__Length</th>\n",
       "      <th>geometry</th>\n",
       "    </tr>\n",
       "  </thead>\n",
       "  <tbody>\n",
       "    <tr>\n",
       "      <th>0</th>\n",
       "      <td>1</td>\n",
       "      <td>E02000001</td>\n",
       "      <td>City of London 001</td>\n",
       "      <td>City of London 001</td>\n",
       "      <td>532378</td>\n",
       "      <td>181354</td>\n",
       "      <td>-0.093570</td>\n",
       "      <td>51.51560</td>\n",
       "      <td>3.226298e+06</td>\n",
       "      <td>7736.354286</td>\n",
       "      <td>POLYGON ((532947.881 181895.061, 533412.520 18...</td>\n",
       "    </tr>\n",
       "    <tr>\n",
       "      <th>1</th>\n",
       "      <td>2</td>\n",
       "      <td>E02000002</td>\n",
       "      <td>Barking and Dagenham 001</td>\n",
       "      <td>Barking and Dagenham 001</td>\n",
       "      <td>548267</td>\n",
       "      <td>189693</td>\n",
       "      <td>0.138759</td>\n",
       "      <td>51.58659</td>\n",
       "      <td>2.064081e+06</td>\n",
       "      <td>7071.368067</td>\n",
       "      <td>POLYGON ((549002.599 190873.761, 549122.828 18...</td>\n",
       "    </tr>\n",
       "    <tr>\n",
       "      <th>2</th>\n",
       "      <td>3</td>\n",
       "      <td>E02000003</td>\n",
       "      <td>Barking and Dagenham 002</td>\n",
       "      <td>Barking and Dagenham 002</td>\n",
       "      <td>548259</td>\n",
       "      <td>188522</td>\n",
       "      <td>0.138150</td>\n",
       "      <td>51.57607</td>\n",
       "      <td>2.226199e+06</td>\n",
       "      <td>7772.530669</td>\n",
       "      <td>POLYGON ((548956.371 189063.484, 549087.474 18...</td>\n",
       "    </tr>\n",
       "    <tr>\n",
       "      <th>3</th>\n",
       "      <td>4</td>\n",
       "      <td>E02000004</td>\n",
       "      <td>Barking and Dagenham 003</td>\n",
       "      <td>Barking and Dagenham 003</td>\n",
       "      <td>551004</td>\n",
       "      <td>186418</td>\n",
       "      <td>0.176830</td>\n",
       "      <td>51.55644</td>\n",
       "      <td>2.599306e+06</td>\n",
       "      <td>6982.412334</td>\n",
       "      <td>POLYGON ((551945.701 186027.855, 551672.764 18...</td>\n",
       "    </tr>\n",
       "    <tr>\n",
       "      <th>4</th>\n",
       "      <td>5</td>\n",
       "      <td>E02000005</td>\n",
       "      <td>Barking and Dagenham 004</td>\n",
       "      <td>Barking and Dagenham 004</td>\n",
       "      <td>548733</td>\n",
       "      <td>186827</td>\n",
       "      <td>0.144269</td>\n",
       "      <td>51.56071</td>\n",
       "      <td>1.221861e+06</td>\n",
       "      <td>5599.765567</td>\n",
       "      <td>POLYGON ((549420.553 187442.648, 548985.314 18...</td>\n",
       "    </tr>\n",
       "  </tbody>\n",
       "</table>\n",
       "</div>"
      ],
      "text/plain": [
       "   OBJECTID   MSOA11CD                  MSOA11NM                 MSOA11NMW  \\\n",
       "0         1  E02000001        City of London 001        City of London 001   \n",
       "1         2  E02000002  Barking and Dagenham 001  Barking and Dagenham 001   \n",
       "2         3  E02000003  Barking and Dagenham 002  Barking and Dagenham 002   \n",
       "3         4  E02000004  Barking and Dagenham 003  Barking and Dagenham 003   \n",
       "4         5  E02000005  Barking and Dagenham 004  Barking and Dagenham 004   \n",
       "\n",
       "    BNG_E   BNG_N      LONG       LAT   Shape__Area  Shape__Length  \\\n",
       "0  532378  181354 -0.093570  51.51560  3.226298e+06    7736.354286   \n",
       "1  548267  189693  0.138759  51.58659  2.064081e+06    7071.368067   \n",
       "2  548259  188522  0.138150  51.57607  2.226199e+06    7772.530669   \n",
       "3  551004  186418  0.176830  51.55644  2.599306e+06    6982.412334   \n",
       "4  548733  186827  0.144269  51.56071  1.221861e+06    5599.765567   \n",
       "\n",
       "                                            geometry  \n",
       "0  POLYGON ((532947.881 181895.061, 533412.520 18...  \n",
       "1  POLYGON ((549002.599 190873.761, 549122.828 18...  \n",
       "2  POLYGON ((548956.371 189063.484, 549087.474 18...  \n",
       "3  POLYGON ((551945.701 186027.855, 551672.764 18...  \n",
       "4  POLYGON ((549420.553 187442.648, 548985.314 18...  "
      ]
     },
     "execution_count": 7,
     "metadata": {},
     "output_type": "execute_result"
    }
   ],
   "source": [
    "MSOA.head(5)"
   ]
  },
  {
   "cell_type": "markdown",
   "metadata": {},
   "source": [
    "### Read the data of MSOA of East of England"
   ]
  },
  {
   "cell_type": "code",
   "execution_count": 10,
   "metadata": {},
   "outputs": [],
   "source": [
    "import pandas as pd"
   ]
  },
  {
   "cell_type": "code",
   "execution_count": 11,
   "metadata": {},
   "outputs": [],
   "source": [
    "eastMSOA = pd.read_csv('/Users/xrb/Desktop/UCL/Dissertation/STEP1/MSOA_East of England.csv')"
   ]
  },
  {
   "cell_type": "code",
   "execution_count": 12,
   "metadata": {},
   "outputs": [
    {
     "data": {
      "text/html": [
       "<div>\n",
       "<style scoped>\n",
       "    .dataframe tbody tr th:only-of-type {\n",
       "        vertical-align: middle;\n",
       "    }\n",
       "\n",
       "    .dataframe tbody tr th {\n",
       "        vertical-align: top;\n",
       "    }\n",
       "\n",
       "    .dataframe thead th {\n",
       "        text-align: right;\n",
       "    }\n",
       "</style>\n",
       "<table border=\"1\" class=\"dataframe\">\n",
       "  <thead>\n",
       "    <tr style=\"text-align: right;\">\n",
       "      <th></th>\n",
       "      <th>Region name</th>\n",
       "      <th>MSOA code</th>\n",
       "      <th>MSOA name</th>\n",
       "    </tr>\n",
       "  </thead>\n",
       "  <tbody>\n",
       "    <tr>\n",
       "      <th>0</th>\n",
       "      <td>East of England</td>\n",
       "      <td>E02003238</td>\n",
       "      <td>Werrington</td>\n",
       "    </tr>\n",
       "    <tr>\n",
       "      <th>1</th>\n",
       "      <td>East of England</td>\n",
       "      <td>E02003239</td>\n",
       "      <td>Newborough &amp; Peakirk</td>\n",
       "    </tr>\n",
       "    <tr>\n",
       "      <th>2</th>\n",
       "      <td>East of England</td>\n",
       "      <td>E02003240</td>\n",
       "      <td>Barnack, Wittering &amp; Wansford</td>\n",
       "    </tr>\n",
       "    <tr>\n",
       "      <th>3</th>\n",
       "      <td>East of England</td>\n",
       "      <td>E02003241</td>\n",
       "      <td>Eye &amp; Thorney</td>\n",
       "    </tr>\n",
       "    <tr>\n",
       "      <th>4</th>\n",
       "      <td>East of England</td>\n",
       "      <td>E02003242</td>\n",
       "      <td>Walton</td>\n",
       "    </tr>\n",
       "  </tbody>\n",
       "</table>\n",
       "</div>"
      ],
      "text/plain": [
       "       Region name  MSOA code                      MSOA name\n",
       "0  East of England  E02003238                     Werrington\n",
       "1  East of England  E02003239           Newborough & Peakirk\n",
       "2  East of England  E02003240  Barnack, Wittering & Wansford\n",
       "3  East of England  E02003241                  Eye & Thorney\n",
       "4  East of England  E02003242                         Walton"
      ]
     },
     "execution_count": 12,
     "metadata": {},
     "output_type": "execute_result"
    }
   ],
   "source": [
    "eastMSOA.head(5)"
   ]
  },
  {
   "cell_type": "markdown",
   "metadata": {},
   "source": [
    "### Keep the spatial data of MSOA of East of England only"
   ]
  },
  {
   "cell_type": "code",
   "execution_count": 14,
   "metadata": {},
   "outputs": [
    {
     "data": {
      "text/html": [
       "<div>\n",
       "<style scoped>\n",
       "    .dataframe tbody tr th:only-of-type {\n",
       "        vertical-align: middle;\n",
       "    }\n",
       "\n",
       "    .dataframe tbody tr th {\n",
       "        vertical-align: top;\n",
       "    }\n",
       "\n",
       "    .dataframe thead th {\n",
       "        text-align: right;\n",
       "    }\n",
       "</style>\n",
       "<table border=\"1\" class=\"dataframe\">\n",
       "  <thead>\n",
       "    <tr style=\"text-align: right;\">\n",
       "      <th></th>\n",
       "      <th>OBJECTID</th>\n",
       "      <th>MSOA11CD</th>\n",
       "      <th>MSOA11NM</th>\n",
       "      <th>MSOA11NMW</th>\n",
       "      <th>BNG_E</th>\n",
       "      <th>BNG_N</th>\n",
       "      <th>LONG</th>\n",
       "      <th>LAT</th>\n",
       "      <th>Shape__Area</th>\n",
       "      <th>Shape__Length</th>\n",
       "      <th>geometry</th>\n",
       "      <th>Region name</th>\n",
       "      <th>MSOA code</th>\n",
       "      <th>MSOA name</th>\n",
       "    </tr>\n",
       "  </thead>\n",
       "  <tbody>\n",
       "    <tr>\n",
       "      <th>0</th>\n",
       "      <td>3151</td>\n",
       "      <td>E02003238</td>\n",
       "      <td>Peterborough 002</td>\n",
       "      <td>Peterborough 002</td>\n",
       "      <td>516868</td>\n",
       "      <td>304356</td>\n",
       "      <td>-0.27491</td>\n",
       "      <td>52.62441</td>\n",
       "      <td>2.019142e+06</td>\n",
       "      <td>6157.819583</td>\n",
       "      <td>POLYGON ((517544.653 303597.911, 517272.626 30...</td>\n",
       "      <td>East of England</td>\n",
       "      <td>E02003238</td>\n",
       "      <td>Werrington</td>\n",
       "    </tr>\n",
       "    <tr>\n",
       "      <th>1</th>\n",
       "      <td>3152</td>\n",
       "      <td>E02003239</td>\n",
       "      <td>Peterborough 003</td>\n",
       "      <td>Peterborough 003</td>\n",
       "      <td>520689</td>\n",
       "      <td>305883</td>\n",
       "      <td>-0.21794</td>\n",
       "      <td>52.63730</td>\n",
       "      <td>4.124893e+07</td>\n",
       "      <td>31645.438067</td>\n",
       "      <td>POLYGON ((525851.183 307596.658, 525441.863 30...</td>\n",
       "      <td>East of England</td>\n",
       "      <td>E02003239</td>\n",
       "      <td>Newborough &amp; Peakirk</td>\n",
       "    </tr>\n",
       "    <tr>\n",
       "      <th>2</th>\n",
       "      <td>3153</td>\n",
       "      <td>E02003240</td>\n",
       "      <td>Peterborough 004</td>\n",
       "      <td>Peterborough 004</td>\n",
       "      <td>508021</td>\n",
       "      <td>303301</td>\n",
       "      <td>-0.40590</td>\n",
       "      <td>52.61676</td>\n",
       "      <td>6.884148e+07</td>\n",
       "      <td>44178.663133</td>\n",
       "      <td>POLYGON ((511058.883 308185.919, 510061.284 30...</td>\n",
       "      <td>East of England</td>\n",
       "      <td>E02003240</td>\n",
       "      <td>Barnack, Wittering &amp; Wansford</td>\n",
       "    </tr>\n",
       "    <tr>\n",
       "      <th>3</th>\n",
       "      <td>3154</td>\n",
       "      <td>E02003241</td>\n",
       "      <td>Peterborough 005</td>\n",
       "      <td>Peterborough 005</td>\n",
       "      <td>527609</td>\n",
       "      <td>304403</td>\n",
       "      <td>-0.11631</td>\n",
       "      <td>52.62242</td>\n",
       "      <td>9.549405e+07</td>\n",
       "      <td>45122.954480</td>\n",
       "      <td>POLYGON ((533247.194 308908.961, 534704.394 30...</td>\n",
       "      <td>East of England</td>\n",
       "      <td>E02003241</td>\n",
       "      <td>Eye &amp; Thorney</td>\n",
       "    </tr>\n",
       "    <tr>\n",
       "      <th>4</th>\n",
       "      <td>3155</td>\n",
       "      <td>E02003242</td>\n",
       "      <td>Peterborough 006</td>\n",
       "      <td>Peterborough 006</td>\n",
       "      <td>517002</td>\n",
       "      <td>302833</td>\n",
       "      <td>-0.27347</td>\n",
       "      <td>52.61070</td>\n",
       "      <td>3.275329e+06</td>\n",
       "      <td>9975.709892</td>\n",
       "      <td>POLYGON ((516654.872 303795.368, 516807.710 30...</td>\n",
       "      <td>East of England</td>\n",
       "      <td>E02003242</td>\n",
       "      <td>Walton</td>\n",
       "    </tr>\n",
       "  </tbody>\n",
       "</table>\n",
       "</div>"
      ],
      "text/plain": [
       "   OBJECTID   MSOA11CD          MSOA11NM         MSOA11NMW   BNG_E   BNG_N  \\\n",
       "0      3151  E02003238  Peterborough 002  Peterborough 002  516868  304356   \n",
       "1      3152  E02003239  Peterborough 003  Peterborough 003  520689  305883   \n",
       "2      3153  E02003240  Peterborough 004  Peterborough 004  508021  303301   \n",
       "3      3154  E02003241  Peterborough 005  Peterborough 005  527609  304403   \n",
       "4      3155  E02003242  Peterborough 006  Peterborough 006  517002  302833   \n",
       "\n",
       "      LONG       LAT   Shape__Area  Shape__Length  \\\n",
       "0 -0.27491  52.62441  2.019142e+06    6157.819583   \n",
       "1 -0.21794  52.63730  4.124893e+07   31645.438067   \n",
       "2 -0.40590  52.61676  6.884148e+07   44178.663133   \n",
       "3 -0.11631  52.62242  9.549405e+07   45122.954480   \n",
       "4 -0.27347  52.61070  3.275329e+06    9975.709892   \n",
       "\n",
       "                                            geometry      Region name  \\\n",
       "0  POLYGON ((517544.653 303597.911, 517272.626 30...  East of England   \n",
       "1  POLYGON ((525851.183 307596.658, 525441.863 30...  East of England   \n",
       "2  POLYGON ((511058.883 308185.919, 510061.284 30...  East of England   \n",
       "3  POLYGON ((533247.194 308908.961, 534704.394 30...  East of England   \n",
       "4  POLYGON ((516654.872 303795.368, 516807.710 30...  East of England   \n",
       "\n",
       "   MSOA code                      MSOA name  \n",
       "0  E02003238                     Werrington  \n",
       "1  E02003239           Newborough & Peakirk  \n",
       "2  E02003240  Barnack, Wittering & Wansford  \n",
       "3  E02003241                  Eye & Thorney  \n",
       "4  E02003242                         Walton  "
      ]
     },
     "execution_count": 14,
     "metadata": {},
     "output_type": "execute_result"
    }
   ],
   "source": [
    "eastMSOAspatial = pd.merge(MSOA, eastMSOA, how='inner', left_on='MSOA11CD',right_on='MSOA code')\n",
    "eastMSOAspatial.head(5)"
   ]
  },
  {
   "cell_type": "code",
   "execution_count": 15,
   "metadata": {},
   "outputs": [
    {
     "name": "stdout",
     "output_type": "stream",
     "text": [
      "<class 'geopandas.geodataframe.GeoDataFrame'>\n",
      "Int64Index: 735 entries, 0 to 734\n",
      "Data columns (total 14 columns):\n",
      " #   Column         Non-Null Count  Dtype   \n",
      "---  ------         --------------  -----   \n",
      " 0   OBJECTID       735 non-null    int64   \n",
      " 1   MSOA11CD       735 non-null    object  \n",
      " 2   MSOA11NM       735 non-null    object  \n",
      " 3   MSOA11NMW      735 non-null    object  \n",
      " 4   BNG_E          735 non-null    int64   \n",
      " 5   BNG_N          735 non-null    int64   \n",
      " 6   LONG           735 non-null    float64 \n",
      " 7   LAT            735 non-null    float64 \n",
      " 8   Shape__Area    735 non-null    float64 \n",
      " 9   Shape__Length  735 non-null    float64 \n",
      " 10  geometry       735 non-null    geometry\n",
      " 11  Region name    735 non-null    object  \n",
      " 12  MSOA code      735 non-null    object  \n",
      " 13  MSOA name      735 non-null    object  \n",
      "dtypes: float64(4), geometry(1), int64(3), object(6)\n",
      "memory usage: 86.1+ KB\n"
     ]
    }
   ],
   "source": [
    "eastMSOAspatial.info()"
   ]
  },
  {
   "cell_type": "code",
   "execution_count": 17,
   "metadata": {},
   "outputs": [],
   "source": [
    "#keep the columns we need\n",
    "eastMSOAspatial = eastMSOAspatial[['MSOA11CD','geometry','MSOA name']]"
   ]
  },
  {
   "cell_type": "code",
   "execution_count": 21,
   "metadata": {},
   "outputs": [
    {
     "data": {
      "text/plain": [
       "<matplotlib.axes._subplots.AxesSubplot at 0x7ffade597310>"
      ]
     },
     "execution_count": 21,
     "metadata": {},
     "output_type": "execute_result"
    },
    {
     "data": {
      "image/png": "[encoded data removed]",
      "text/plain": [
       "<Figure size 432x288 with 1 Axes>"
      ]
     },
     "metadata": {
      "needs_background": "light"
     },
     "output_type": "display_data"
    }
   ],
   "source": [
    "eastMSOAspatial.plot()"
   ]
  },
  {
   "cell_type": "code",
   "execution_count": 22,
   "metadata": {},
   "outputs": [
    {
     "data": {
      "text/plain": [
       "<matplotlib.axes._subplots.AxesSubplot at 0x7ffade64de80>"
      ]
     },
     "execution_count": 22,
     "metadata": {},
     "output_type": "execute_result"
    },
    {
     "data": {
      "image/png": "[encoded data removed]",
      "text/plain": [
       "<Figure size 432x288 with 1 Axes>"
      ]
     },
     "metadata": {
      "needs_background": "light"
     },
     "output_type": "display_data"
    }
   ],
   "source": [
    "centres.plot()"
   ]
  },
  {
   "cell_type": "markdown",
   "metadata": {},
   "source": [
    "### Keep the vaccination centres data of East of England only"
   ]
  },
  {
   "cell_type": "code",
   "execution_count": 26,
   "metadata": {},
   "outputs": [],
   "source": [
    "centresEast = gpd.overlay(centres, eastMSOAspatial, how='intersection')"
   ]
  },
  {
   "cell_type": "code",
   "execution_count": 27,
   "metadata": {},
   "outputs": [
    {
     "data": {
      "text/plain": [
       "<matplotlib.axes._subplots.AxesSubplot at 0x7ffade6c7b50>"
      ]
     },
     "execution_count": 27,
     "metadata": {},
     "output_type": "execute_result"
    },
    {
     "data": {
      "image/png": "[encoded data removed]",
      "text/plain": [
       "<Figure size 432x288 with 1 Axes>"
      ]
     },
     "metadata": {
      "needs_background": "light"
     },
     "output_type": "display_data"
    }
   ],
   "source": [
    "centresEast.plot()"
   ]
  },
  {
   "cell_type": "code",
   "execution_count": 28,
   "metadata": {},
   "outputs": [
    {
     "name": "stdout",
     "output_type": "stream",
     "text": [
      "<class 'geopandas.geodataframe.GeoDataFrame'>\n",
      "RangeIndex: 367 entries, 0 to 366\n",
      "Data columns (total 5 columns):\n",
      " #   Column        Non-Null Count  Dtype   \n",
      "---  ------        --------------  -----   \n",
      " 0   index         367 non-null    int64   \n",
      " 1   supply_value  367 non-null    int64   \n",
      " 2   MSOA11CD      367 non-null    object  \n",
      " 3   MSOA name     367 non-null    object  \n",
      " 4   geometry      367 non-null    geometry\n",
      "dtypes: geometry(1), int64(2), object(2)\n",
      "memory usage: 14.5+ KB\n"
     ]
    }
   ],
   "source": [
    "centresEast.info()"
   ]
  },
  {
   "cell_type": "code",
   "execution_count": 29,
   "metadata": {},
   "outputs": [
    {
     "data": {
      "text/html": [
       "<div>\n",
       "<style scoped>\n",
       "    .dataframe tbody tr th:only-of-type {\n",
       "        vertical-align: middle;\n",
       "    }\n",
       "\n",
       "    .dataframe tbody tr th {\n",
       "        vertical-align: top;\n",
       "    }\n",
       "\n",
       "    .dataframe thead th {\n",
       "        text-align: right;\n",
       "    }\n",
       "</style>\n",
       "<table border=\"1\" class=\"dataframe\">\n",
       "  <thead>\n",
       "    <tr style=\"text-align: right;\">\n",
       "      <th></th>\n",
       "      <th>index</th>\n",
       "      <th>supply_value</th>\n",
       "      <th>MSOA11CD</th>\n",
       "      <th>MSOA name</th>\n",
       "      <th>geometry</th>\n",
       "    </tr>\n",
       "  </thead>\n",
       "  <tbody>\n",
       "    <tr>\n",
       "      <th>0</th>\n",
       "      <td>3</td>\n",
       "      <td>1</td>\n",
       "      <td>E02003731</td>\n",
       "      <td>Addenbrooke's &amp; Queen Edith's</td>\n",
       "      <td>POINT (546372.813 254986.453)</td>\n",
       "    </tr>\n",
       "    <tr>\n",
       "      <th>1</th>\n",
       "      <td>153</td>\n",
       "      <td>1</td>\n",
       "      <td>E02003731</td>\n",
       "      <td>Addenbrooke's &amp; Queen Edith's</td>\n",
       "      <td>POINT (546152.712 254956.347)</td>\n",
       "    </tr>\n",
       "    <tr>\n",
       "      <th>2</th>\n",
       "      <td>12</td>\n",
       "      <td>1</td>\n",
       "      <td>E02003293</td>\n",
       "      <td>Southend Central</td>\n",
       "      <td>POINT (587016.746 185867.604)</td>\n",
       "    </tr>\n",
       "    <tr>\n",
       "      <th>3</th>\n",
       "      <td>21</td>\n",
       "      <td>1</td>\n",
       "      <td>E02003293</td>\n",
       "      <td>Southend Central</td>\n",
       "      <td>POINT (587016.746 185867.604)</td>\n",
       "    </tr>\n",
       "    <tr>\n",
       "      <th>4</th>\n",
       "      <td>169</td>\n",
       "      <td>1</td>\n",
       "      <td>E02003293</td>\n",
       "      <td>Southend Central</td>\n",
       "      <td>POINT (587016.746 185867.604)</td>\n",
       "    </tr>\n",
       "  </tbody>\n",
       "</table>\n",
       "</div>"
      ],
      "text/plain": [
       "   index  supply_value   MSOA11CD                      MSOA name  \\\n",
       "0      3             1  E02003731  Addenbrooke's & Queen Edith's   \n",
       "1    153             1  E02003731  Addenbrooke's & Queen Edith's   \n",
       "2     12             1  E02003293               Southend Central   \n",
       "3     21             1  E02003293               Southend Central   \n",
       "4    169             1  E02003293               Southend Central   \n",
       "\n",
       "                        geometry  \n",
       "0  POINT (546372.813 254986.453)  \n",
       "1  POINT (546152.712 254956.347)  \n",
       "2  POINT (587016.746 185867.604)  \n",
       "3  POINT (587016.746 185867.604)  \n",
       "4  POINT (587016.746 185867.604)  "
      ]
     },
     "execution_count": 29,
     "metadata": {},
     "output_type": "execute_result"
    }
   ],
   "source": [
    "centresEast.head(5)"
   ]
  },
  {
   "cell_type": "markdown",
   "metadata": {},
   "source": [
    "### read MSOA population weighted centroids data"
   ]
  },
  {
   "cell_type": "markdown",
   "metadata": {},
   "source": [
    "set population weighted centroids as demand point\n",
    "\n",
    "source:\n",
    "https://geoportal.statistics.gov.uk/datasets/ons::middle-layer-super-output-areas-december-2011-population-weighted-centroids/about"
   ]
  },
  {
   "cell_type": "code",
   "execution_count": 30,
   "metadata": {},
   "outputs": [],
   "source": [
    "weighted_centroids_MSOA = gpd.read_file('/Users/xrb/Desktop/UCL/Dissertation/STEP1/MSOA_Population_Weighted_Centroids_with_population.gpkg')"
   ]
  },
  {
   "cell_type": "code",
   "execution_count": 32,
   "metadata": {},
   "outputs": [
    {
     "data": {
      "text/html": [
       "<div>\n",
       "<style scoped>\n",
       "    .dataframe tbody tr th:only-of-type {\n",
       "        vertical-align: middle;\n",
       "    }\n",
       "\n",
       "    .dataframe tbody tr th {\n",
       "        vertical-align: top;\n",
       "    }\n",
       "\n",
       "    .dataframe thead th {\n",
       "        text-align: right;\n",
       "    }\n",
       "</style>\n",
       "<table border=\"1\" class=\"dataframe\">\n",
       "  <thead>\n",
       "    <tr style=\"text-align: right;\">\n",
       "      <th></th>\n",
       "      <th>objectid</th>\n",
       "      <th>msoa11cd</th>\n",
       "      <th>pop0-49</th>\n",
       "      <th>pop50-59</th>\n",
       "      <th>pop60-69</th>\n",
       "      <th>pop70-79</th>\n",
       "      <th>pop80-89</th>\n",
       "      <th>pop90+</th>\n",
       "      <th>total_pop</th>\n",
       "      <th>geometry</th>\n",
       "    </tr>\n",
       "  </thead>\n",
       "  <tbody>\n",
       "    <tr>\n",
       "      <th>0</th>\n",
       "      <td>1</td>\n",
       "      <td>E02002536</td>\n",
       "      <td>5688</td>\n",
       "      <td>1416</td>\n",
       "      <td>1132</td>\n",
       "      <td>891</td>\n",
       "      <td>540</td>\n",
       "      <td>104</td>\n",
       "      <td>9771</td>\n",
       "      <td>POINT (445582.345 524175.434)</td>\n",
       "    </tr>\n",
       "    <tr>\n",
       "      <th>1</th>\n",
       "      <td>2</td>\n",
       "      <td>E02002537</td>\n",
       "      <td>5578</td>\n",
       "      <td>1251</td>\n",
       "      <td>836</td>\n",
       "      <td>545</td>\n",
       "      <td>386</td>\n",
       "      <td>45</td>\n",
       "      <td>8641</td>\n",
       "      <td>POINT (446777.151 524256.841)</td>\n",
       "    </tr>\n",
       "    <tr>\n",
       "      <th>2</th>\n",
       "      <td>3</td>\n",
       "      <td>E02002534</td>\n",
       "      <td>2547</td>\n",
       "      <td>824</td>\n",
       "      <td>863</td>\n",
       "      <td>967</td>\n",
       "      <td>407</td>\n",
       "      <td>85</td>\n",
       "      <td>5693</td>\n",
       "      <td>POINT (461356.929 515118.900)</td>\n",
       "    </tr>\n",
       "    <tr>\n",
       "      <th>3</th>\n",
       "      <td>4</td>\n",
       "      <td>E02002535</td>\n",
       "      <td>4959</td>\n",
       "      <td>1636</td>\n",
       "      <td>1385</td>\n",
       "      <td>870</td>\n",
       "      <td>416</td>\n",
       "      <td>70</td>\n",
       "      <td>9336</td>\n",
       "      <td>POINT (446117.027 525455.836)</td>\n",
       "    </tr>\n",
       "    <tr>\n",
       "      <th>4</th>\n",
       "      <td>5</td>\n",
       "      <td>E02002532</td>\n",
       "      <td>3783</td>\n",
       "      <td>970</td>\n",
       "      <td>810</td>\n",
       "      <td>655</td>\n",
       "      <td>342</td>\n",
       "      <td>95</td>\n",
       "      <td>6655</td>\n",
       "      <td>POINT (461053.212 516175.379)</td>\n",
       "    </tr>\n",
       "  </tbody>\n",
       "</table>\n",
       "</div>"
      ],
      "text/plain": [
       "   objectid   msoa11cd  pop0-49  pop50-59  pop60-69  pop70-79  pop80-89  \\\n",
       "0         1  E02002536     5688      1416      1132       891       540   \n",
       "1         2  E02002537     5578      1251       836       545       386   \n",
       "2         3  E02002534     2547       824       863       967       407   \n",
       "3         4  E02002535     4959      1636      1385       870       416   \n",
       "4         5  E02002532     3783       970       810       655       342   \n",
       "\n",
       "   pop90+  total_pop                       geometry  \n",
       "0     104       9771  POINT (445582.345 524175.434)  \n",
       "1      45       8641  POINT (446777.151 524256.841)  \n",
       "2      85       5693  POINT (461356.929 515118.900)  \n",
       "3      70       9336  POINT (446117.027 525455.836)  \n",
       "4      95       6655  POINT (461053.212 516175.379)  "
      ]
     },
     "execution_count": 32,
     "metadata": {},
     "output_type": "execute_result"
    }
   ],
   "source": [
    "weighted_centroids_MSOA.head(5)"
   ]
  },
  {
   "cell_type": "markdown",
   "metadata": {},
   "source": [
    "### Keep the centroids data of MSOA of East of England only"
   ]
  },
  {
   "cell_type": "code",
   "execution_count": 33,
   "metadata": {},
   "outputs": [
    {
     "data": {
      "text/html": [
       "<div>\n",
       "<style scoped>\n",
       "    .dataframe tbody tr th:only-of-type {\n",
       "        vertical-align: middle;\n",
       "    }\n",
       "\n",
       "    .dataframe tbody tr th {\n",
       "        vertical-align: top;\n",
       "    }\n",
       "\n",
       "    .dataframe thead th {\n",
       "        text-align: right;\n",
       "    }\n",
       "</style>\n",
       "<table border=\"1\" class=\"dataframe\">\n",
       "  <thead>\n",
       "    <tr style=\"text-align: right;\">\n",
       "      <th></th>\n",
       "      <th>objectid</th>\n",
       "      <th>msoa11cd</th>\n",
       "      <th>pop0-49</th>\n",
       "      <th>pop50-59</th>\n",
       "      <th>pop60-69</th>\n",
       "      <th>pop70-79</th>\n",
       "      <th>pop80-89</th>\n",
       "      <th>pop90+</th>\n",
       "      <th>total_pop</th>\n",
       "      <th>geometry</th>\n",
       "      <th>Region name</th>\n",
       "      <th>MSOA code</th>\n",
       "      <th>MSOA name</th>\n",
       "    </tr>\n",
       "  </thead>\n",
       "  <tbody>\n",
       "    <tr>\n",
       "      <th>0</th>\n",
       "      <td>897</td>\n",
       "      <td>E02004446</td>\n",
       "      <td>3509</td>\n",
       "      <td>1243</td>\n",
       "      <td>1010</td>\n",
       "      <td>747</td>\n",
       "      <td>301</td>\n",
       "      <td>57</td>\n",
       "      <td>6867</td>\n",
       "      <td>POINT (572600.918 240100.294)</td>\n",
       "      <td>East of England</td>\n",
       "      <td>E02004446</td>\n",
       "      <td>Steeple Bumpstead &amp; Great Yeldham</td>\n",
       "    </tr>\n",
       "    <tr>\n",
       "      <th>1</th>\n",
       "      <td>898</td>\n",
       "      <td>E02004447</td>\n",
       "      <td>2665</td>\n",
       "      <td>1122</td>\n",
       "      <td>978</td>\n",
       "      <td>802</td>\n",
       "      <td>295</td>\n",
       "      <td>53</td>\n",
       "      <td>5915</td>\n",
       "      <td>POINT (583884.046 237502.431)</td>\n",
       "      <td>East of England</td>\n",
       "      <td>E02004447</td>\n",
       "      <td>Bures Hamlet, Maplestead &amp; Belchamp</td>\n",
       "    </tr>\n",
       "    <tr>\n",
       "      <th>2</th>\n",
       "      <td>899</td>\n",
       "      <td>E02004444</td>\n",
       "      <td>5664</td>\n",
       "      <td>1423</td>\n",
       "      <td>1026</td>\n",
       "      <td>750</td>\n",
       "      <td>297</td>\n",
       "      <td>64</td>\n",
       "      <td>9224</td>\n",
       "      <td>POINT (567348.301 187863.989)</td>\n",
       "      <td>East of England</td>\n",
       "      <td>E02004444</td>\n",
       "      <td>Langdon Hills</td>\n",
       "    </tr>\n",
       "    <tr>\n",
       "      <th>3</th>\n",
       "      <td>900</td>\n",
       "      <td>E02004445</td>\n",
       "      <td>5727</td>\n",
       "      <td>1090</td>\n",
       "      <td>825</td>\n",
       "      <td>646</td>\n",
       "      <td>281</td>\n",
       "      <td>52</td>\n",
       "      <td>8621</td>\n",
       "      <td>POINT (572787.602 187770.248)</td>\n",
       "      <td>East of England</td>\n",
       "      <td>E02004445</td>\n",
       "      <td>Vange &amp; Pitsea</td>\n",
       "    </tr>\n",
       "    <tr>\n",
       "      <th>4</th>\n",
       "      <td>901</td>\n",
       "      <td>E02004442</td>\n",
       "      <td>6207</td>\n",
       "      <td>1057</td>\n",
       "      <td>756</td>\n",
       "      <td>475</td>\n",
       "      <td>205</td>\n",
       "      <td>37</td>\n",
       "      <td>8737</td>\n",
       "      <td>POINT (572185.177 188038.221)</td>\n",
       "      <td>East of England</td>\n",
       "      <td>E02004442</td>\n",
       "      <td>Barstable</td>\n",
       "    </tr>\n",
       "  </tbody>\n",
       "</table>\n",
       "</div>"
      ],
      "text/plain": [
       "   objectid   msoa11cd  pop0-49  pop50-59  pop60-69  pop70-79  pop80-89  \\\n",
       "0       897  E02004446     3509      1243      1010       747       301   \n",
       "1       898  E02004447     2665      1122       978       802       295   \n",
       "2       899  E02004444     5664      1423      1026       750       297   \n",
       "3       900  E02004445     5727      1090       825       646       281   \n",
       "4       901  E02004442     6207      1057       756       475       205   \n",
       "\n",
       "   pop90+  total_pop                       geometry      Region name  \\\n",
       "0      57       6867  POINT (572600.918 240100.294)  East of England   \n",
       "1      53       5915  POINT (583884.046 237502.431)  East of England   \n",
       "2      64       9224  POINT (567348.301 187863.989)  East of England   \n",
       "3      52       8621  POINT (572787.602 187770.248)  East of England   \n",
       "4      37       8737  POINT (572185.177 188038.221)  East of England   \n",
       "\n",
       "   MSOA code                            MSOA name  \n",
       "0  E02004446    Steeple Bumpstead & Great Yeldham  \n",
       "1  E02004447  Bures Hamlet, Maplestead & Belchamp  \n",
       "2  E02004444                        Langdon Hills  \n",
       "3  E02004445                       Vange & Pitsea  \n",
       "4  E02004442                            Barstable  "
      ]
     },
     "execution_count": 33,
     "metadata": {},
     "output_type": "execute_result"
    }
   ],
   "source": [
    "eastMSOAcentroids = pd.merge(weighted_centroids_MSOA, eastMSOA, how='inner', left_on='msoa11cd',right_on='MSOA code')\n",
    "eastMSOAcentroids.head(5)"
   ]
  },
  {
   "cell_type": "code",
   "execution_count": 34,
   "metadata": {},
   "outputs": [
    {
     "data": {
      "text/plain": [
       "<matplotlib.axes._subplots.AxesSubplot at 0x7ffadef2ebb0>"
      ]
     },
     "execution_count": 34,
     "metadata": {},
     "output_type": "execute_result"
    },
    {
     "data": {
      "image/png": "[encoded data removed]",
      "text/plain": [
       "<Figure size 432x288 with 1 Axes>"
      ]
     },
     "metadata": {
      "needs_background": "light"
     },
     "output_type": "display_data"
    }
   ],
   "source": [
    "eastMSOAcentroids.plot()"
   ]
  },
  {
   "cell_type": "markdown",
   "metadata": {},
   "source": [
    "## Location Set Covering Problem (LSCP)"
   ]
  },
  {
   "cell_type": "code",
   "execution_count": 35,
   "metadata": {},
   "outputs": [
    {
     "ename": "ModuleNotFoundError",
     "evalue": "No module named 'spopt'",
     "output_type": "error",
     "traceback": [
      "\u001b[0;31m---------------------------------------------------------------------------\u001b[0m",
      "\u001b[0;31mModuleNotFoundError\u001b[0m                       Traceback (most recent call last)",
      "\u001b[0;32m<ipython-input-35-67ad29cfea55>\u001b[0m in \u001b[0;36m<module>\u001b[0;34m\u001b[0m\n\u001b[0;32m----> 1\u001b[0;31m \u001b[0;32mfrom\u001b[0m \u001b[0mspopt\u001b[0m\u001b[0;34m.\u001b[0m\u001b[0mlocate\u001b[0m\u001b[0;34m.\u001b[0m\u001b[0mcoverage\u001b[0m \u001b[0;32mimport\u001b[0m \u001b[0mLSCP\u001b[0m\u001b[0;34m\u001b[0m\u001b[0;34m\u001b[0m\u001b[0m\n\u001b[0m\u001b[1;32m      2\u001b[0m \u001b[0;32mfrom\u001b[0m \u001b[0mspopt\u001b[0m\u001b[0;34m.\u001b[0m\u001b[0mlocate\u001b[0m\u001b[0;34m.\u001b[0m\u001b[0mutil\u001b[0m \u001b[0;32mimport\u001b[0m \u001b[0msimulated_geo_points\u001b[0m\u001b[0;34m\u001b[0m\u001b[0;34m\u001b[0m\u001b[0m\n\u001b[1;32m      3\u001b[0m \u001b[0;34m\u001b[0m\u001b[0m\n\u001b[1;32m      4\u001b[0m \u001b[0;32mimport\u001b[0m \u001b[0mnumpy\u001b[0m\u001b[0;34m\u001b[0m\u001b[0;34m\u001b[0m\u001b[0m\n\u001b[1;32m      5\u001b[0m \u001b[0;32mimport\u001b[0m \u001b[0mpulp\u001b[0m\u001b[0;34m\u001b[0m\u001b[0;34m\u001b[0m\u001b[0m\n",
      "\u001b[0;31mModuleNotFoundError\u001b[0m: No module named 'spopt'"
     ]
    }
   ],
   "source": [
    "from spopt.locate.coverage import LSCP\n",
    "from spopt.locate.util import simulated_geo_points\n",
    "\n",
    "import numpy\n",
    "import pulp\n",
    "import spaghetti\n",
    "from shapely.geometry import Point\n",
    "import matplotlib.pyplot as plt"
   ]
  },
  {
   "cell_type": "code",
   "execution_count": 36,
   "metadata": {},
   "outputs": [
    {
     "ename": "SyntaxError",
     "evalue": "invalid syntax (<ipython-input-36-a3cba50662a9>, line 1)",
     "output_type": "error",
     "traceback": [
      "\u001b[0;36m  File \u001b[0;32m\"<ipython-input-36-a3cba50662a9>\"\u001b[0;36m, line \u001b[0;32m1\u001b[0m\n\u001b[0;31m    install spopt\u001b[0m\n\u001b[0m            ^\u001b[0m\n\u001b[0;31mSyntaxError\u001b[0m\u001b[0;31m:\u001b[0m invalid syntax\n"
     ]
    }
   ],
   "source": [
    "install spopt"
   ]
  },
  {
   "cell_type": "code",
   "execution_count": 37,
   "metadata": {},
   "outputs": [
    {
     "name": "stdout",
     "output_type": "stream",
     "text": [
      "Collecting spopt\n",
      "  Downloading spopt-0.3.0-py3-none-any.whl (83 kB)\n",
      "\u001b[K     |████████████████████████████████| 83 kB 3.7 MB/s eta 0:00:011\n",
      "\u001b[?25hCollecting spaghetti\n",
      "  Downloading spaghetti-1.6.5-py3-none-any.whl (46 kB)\n",
      "\u001b[K     |████████████████████████████████| 46 kB 4.0 MB/s  eta 0:00:01\n",
      "\u001b[?25hRequirement already satisfied, skipping upgrade: pandas>=1 in /opt/anaconda3/lib/python3.8/site-packages (from spopt) (1.0.5)\n",
      "Requirement already satisfied, skipping upgrade: scikit-learn>=0.22 in /opt/anaconda3/lib/python3.8/site-packages (from spopt) (0.23.1)\n",
      "Requirement already satisfied, skipping upgrade: scipy>=0.11 in /opt/anaconda3/lib/python3.8/site-packages (from spopt) (1.5.0)\n",
      "Requirement already satisfied, skipping upgrade: numpy>=1.3 in /opt/anaconda3/lib/python3.8/site-packages (from spopt) (1.18.5)\n",
      "Requirement already satisfied, skipping upgrade: networkx in /opt/anaconda3/lib/python3.8/site-packages (from spopt) (2.4)\n",
      "Collecting libpysal\n",
      "  Downloading libpysal-4.6.2-py3-none-any.whl (2.4 MB)\n",
      "\u001b[K     |████████████████████████████████| 2.4 MB 8.8 MB/s eta 0:00:01\n",
      "\u001b[?25hCollecting pulp\n",
      "  Downloading PuLP-2.6.0-py3-none-any.whl (14.2 MB)\n",
      "\u001b[K     |████████████████████████████████| 14.2 MB 17.4 MB/s eta 0:00:01\n",
      "\u001b[?25hRequirement already satisfied, skipping upgrade: geopandas>=0.7 in /opt/anaconda3/lib/python3.8/site-packages (from spopt) (0.10.2)\n",
      "Collecting esda\n",
      "  Downloading esda-2.4.1.tar.gz (95 kB)\n",
      "\u001b[K     |████████████████████████████████| 95 kB 12.7 MB/s eta 0:00:01\n",
      "\u001b[?25hRequirement already satisfied, skipping upgrade: rtree in /opt/anaconda3/lib/python3.8/site-packages (from spaghetti->spopt) (0.9.4)\n",
      "Requirement already satisfied, skipping upgrade: python-dateutil>=2.6.1 in /opt/anaconda3/lib/python3.8/site-packages (from pandas>=1->spopt) (2.8.1)\n",
      "Requirement already satisfied, skipping upgrade: pytz>=2017.2 in /opt/anaconda3/lib/python3.8/site-packages (from pandas>=1->spopt) (2020.1)\n",
      "Requirement already satisfied, skipping upgrade: threadpoolctl>=2.0.0 in /opt/anaconda3/lib/python3.8/site-packages (from scikit-learn>=0.22->spopt) (2.1.0)\n",
      "Requirement already satisfied, skipping upgrade: joblib>=0.11 in /opt/anaconda3/lib/python3.8/site-packages (from scikit-learn>=0.22->spopt) (0.16.0)\n",
      "Requirement already satisfied, skipping upgrade: decorator>=4.3.0 in /opt/anaconda3/lib/python3.8/site-packages (from networkx->spopt) (4.4.2)\n",
      "Collecting appdirs\n",
      "  Downloading appdirs-1.4.4-py2.py3-none-any.whl (9.6 kB)\n",
      "Requirement already satisfied, skipping upgrade: packaging in /opt/anaconda3/lib/python3.8/site-packages (from libpysal->spopt) (20.4)\n",
      "Requirement already satisfied, skipping upgrade: requests in /opt/anaconda3/lib/python3.8/site-packages (from libpysal->spopt) (2.24.0)\n",
      "Requirement already satisfied, skipping upgrade: jinja2 in /opt/anaconda3/lib/python3.8/site-packages (from libpysal->spopt) (2.11.2)\n",
      "Requirement already satisfied, skipping upgrade: beautifulsoup4 in /opt/anaconda3/lib/python3.8/site-packages (from libpysal->spopt) (4.9.1)\n",
      "Requirement already satisfied, skipping upgrade: shapely>=1.6 in /opt/anaconda3/lib/python3.8/site-packages (from geopandas>=0.7->spopt) (1.8.1.post1)\n",
      "Requirement already satisfied, skipping upgrade: pyproj>=2.2.0 in /opt/anaconda3/lib/python3.8/site-packages (from geopandas>=0.7->spopt) (3.3.1)\n",
      "Requirement already satisfied, skipping upgrade: fiona>=1.8 in /opt/anaconda3/lib/python3.8/site-packages (from geopandas>=0.7->spopt) (1.8.21)\n",
      "Requirement already satisfied, skipping upgrade: setuptools in /opt/anaconda3/lib/python3.8/site-packages (from rtree->spaghetti->spopt) (49.2.0.post20200714)\n",
      "Requirement already satisfied, skipping upgrade: six>=1.5 in /opt/anaconda3/lib/python3.8/site-packages (from python-dateutil>=2.6.1->pandas>=1->spopt) (1.15.0)\n",
      "Requirement already satisfied, skipping upgrade: pyparsing>=2.0.2 in /opt/anaconda3/lib/python3.8/site-packages (from packaging->libpysal->spopt) (2.4.7)\n",
      "Requirement already satisfied, skipping upgrade: idna<3,>=2.5 in /opt/anaconda3/lib/python3.8/site-packages (from requests->libpysal->spopt) (2.10)\n",
      "Requirement already satisfied, skipping upgrade: certifi>=2017.4.17 in /opt/anaconda3/lib/python3.8/site-packages (from requests->libpysal->spopt) (2020.6.20)\n",
      "Requirement already satisfied, skipping upgrade: urllib3!=1.25.0,!=1.25.1,<1.26,>=1.21.1 in /opt/anaconda3/lib/python3.8/site-packages (from requests->libpysal->spopt) (1.25.9)\n",
      "Requirement already satisfied, skipping upgrade: chardet<4,>=3.0.2 in /opt/anaconda3/lib/python3.8/site-packages (from requests->libpysal->spopt) (3.0.4)\n",
      "Requirement already satisfied, skipping upgrade: MarkupSafe>=0.23 in /opt/anaconda3/lib/python3.8/site-packages (from jinja2->libpysal->spopt) (1.1.1)\n",
      "Requirement already satisfied, skipping upgrade: soupsieve>1.2 in /opt/anaconda3/lib/python3.8/site-packages (from beautifulsoup4->libpysal->spopt) (2.0.1)\n",
      "Requirement already satisfied, skipping upgrade: attrs>=17 in /opt/anaconda3/lib/python3.8/site-packages (from fiona>=1.8->geopandas>=0.7->spopt) (19.3.0)\n",
      "Requirement already satisfied, skipping upgrade: click-plugins>=1.0 in /opt/anaconda3/lib/python3.8/site-packages (from fiona>=1.8->geopandas>=0.7->spopt) (1.1.1)\n",
      "Requirement already satisfied, skipping upgrade: munch in /opt/anaconda3/lib/python3.8/site-packages (from fiona>=1.8->geopandas>=0.7->spopt) (2.5.0)\n",
      "Requirement already satisfied, skipping upgrade: cligj>=0.5 in /opt/anaconda3/lib/python3.8/site-packages (from fiona>=1.8->geopandas>=0.7->spopt) (0.7.2)\n",
      "Requirement already satisfied, skipping upgrade: click>=4.0 in /opt/anaconda3/lib/python3.8/site-packages (from fiona>=1.8->geopandas>=0.7->spopt) (7.1.2)\n",
      "Building wheels for collected packages: esda\n",
      "  Building wheel for esda (setup.py) ... \u001b[?25ldone\n",
      "\u001b[?25h  Created wheel for esda: filename=esda-2.4.1-py3-none-any.whl size=117412 sha256=184ceff05b97a1540016c1a93306548b3293076c2793837f29df2bd82aa82f2f\n",
      "  Stored in directory: /Users/xrb/Library/Caches/pip/wheels/fb/9a/64/a3dd7fe87c3e5d3373b2d1fa37b219f8d323f873eb34c64c02\n",
      "Successfully built esda\n",
      "Installing collected packages: appdirs, libpysal, esda, spaghetti, pulp, spopt\n",
      "Successfully installed appdirs-1.4.4 esda-2.4.1 libpysal-4.6.2 pulp-2.6.0 spaghetti-1.6.5 spopt-0.3.0\n",
      "Note: you may need to restart the kernel to use updated packages.\n"
     ]
    }
   ],
   "source": [
    "pip install -U spopt"
   ]
  },
  {
   "cell_type": "code",
   "execution_count": null,
   "metadata": {},
   "outputs": [],
   "source": []
  }
 ],
 "metadata": {
  "kernelspec": {
   "display_name": "Python 3",
   "language": "python",
   "name": "python3"
  },
  "language_info": {
   "codemirror_mode": {
    "name": "ipython",
    "version": 3
   },
   "file_extension": ".py",
   "mimetype": "text/x-python",
   "name": "python",
   "nbconvert_exporter": "python",
   "pygments_lexer": "ipython3",
   "version": "3.8.3"
  }
 },
 "nbformat": 4,
 "nbformat_minor": 4
}
