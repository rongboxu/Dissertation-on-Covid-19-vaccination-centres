{
 "cells": [
  {
   "cell_type": "markdown",
   "metadata": {},
   "source": [
    "# LSCP for selecting new sites for all MSOA\n",
    "\n",
    "Author: Huanfa Chen"
   ]
  },
  {
   "cell_type": "code",
   "execution_count": 1,
   "metadata": {},
   "outputs": [
    {
     "name": "stdout",
     "output_type": "stream",
     "text": [
      "Last update: 23/06/2022 14:08:42\n"
     ]
    }
   ],
   "source": [
    "import datetime\n",
    "print(\"Last update:\", datetime.datetime.now().strftime(\"%d/%m/%Y %H:%M:%S\"))"
   ]
  },
  {
   "cell_type": "code",
   "execution_count": 2,
   "metadata": {
    "id": "xFJ_8HUJlUML"
   },
   "outputs": [],
   "source": [
    "# !pip install geopandas\n",
    "# !pip install pulp"
   ]
  },
  {
   "cell_type": "code",
   "execution_count": 3,
   "metadata": {
    "id": "7Ie3cw_uhvO0"
   },
   "outputs": [
    {
     "name": "stderr",
     "output_type": "stream",
     "text": [
      "/opt/anaconda3/lib/python3.8/site-packages/geopandas/_compat.py:111: UserWarning: The Shapely GEOS version (3.8.0-CAPI-1.13.1 ) is incompatible with the GEOS version PyGEOS was compiled with (3.10.1-CAPI-1.16.0). Conversions between both will be slow.\n",
      "  warnings.warn(\n"
     ]
    }
   ],
   "source": [
    "# %time\n",
    "import numpy\n",
    "import geopandas \n",
    "import pandas\n",
    "import pulp\n",
    "from shapely.geometry import Point\n",
    "import matplotlib.pyplot as plt\n",
    "# from google.colab import files\n",
    "import spopt\n",
    "from spopt.locate.coverage import LSCP\n",
    "import time"
   ]
  },
  {
   "cell_type": "markdown",
   "metadata": {},
   "source": [
    "## Import data"
   ]
  },
  {
   "cell_type": "code",
   "execution_count": 4,
   "metadata": {},
   "outputs": [],
   "source": [
    "# the service distance in metres (equal to 10 miles)\n",
    "service_dist = 16093.4\n",
    "# the distance greater than service distance\n",
    "great_dist = 20000"
   ]
  },
  {
   "cell_type": "code",
   "execution_count": 5,
   "metadata": {},
   "outputs": [],
   "source": [
    "# import distance data\n",
    "# the distance between existing sites and covered MSOAs\n",
    "df_distance_existing_sites_covered_MSOA = pandas.read_csv('../Data/distance_df_existing_sites_MSOA.csv')\n",
    "\n",
    "# the distance between potential sites and uncovered MSOAs\n",
    "df_distance_potential_sites_all_MSOA = pandas.read_csv('../Data/distance_df_potential_sites_all_MSOA.csv')"
   ]
  },
  {
   "cell_type": "code",
   "execution_count": 6,
   "metadata": {},
   "outputs": [
    {
     "data": {
      "text/html": [
       "<div>\n",
       "<style scoped>\n",
       "    .dataframe tbody tr th:only-of-type {\n",
       "        vertical-align: middle;\n",
       "    }\n",
       "\n",
       "    .dataframe tbody tr th {\n",
       "        vertical-align: top;\n",
       "    }\n",
       "\n",
       "    .dataframe thead th {\n",
       "        text-align: right;\n",
       "    }\n",
       "</style>\n",
       "<table border=\"1\" class=\"dataframe\">\n",
       "  <thead>\n",
       "    <tr style=\"text-align: right;\">\n",
       "      <th></th>\n",
       "      <th>Unnamed: 0</th>\n",
       "      <th>origin_id</th>\n",
       "      <th>dest_id</th>\n",
       "      <th>distance</th>\n",
       "    </tr>\n",
       "  </thead>\n",
       "  <tbody>\n",
       "    <tr>\n",
       "      <th>0</th>\n",
       "      <td>122</td>\n",
       "      <td>E02002536</td>\n",
       "      <td>E122</td>\n",
       "      <td>6712.7</td>\n",
       "    </tr>\n",
       "    <tr>\n",
       "      <th>1</th>\n",
       "      <td>127</td>\n",
       "      <td>E02002536</td>\n",
       "      <td>E127</td>\n",
       "      <td>13881.2</td>\n",
       "    </tr>\n",
       "    <tr>\n",
       "      <th>2</th>\n",
       "      <td>137</td>\n",
       "      <td>E02002536</td>\n",
       "      <td>E137</td>\n",
       "      <td>13631.4</td>\n",
       "    </tr>\n",
       "    <tr>\n",
       "      <th>3</th>\n",
       "      <td>836</td>\n",
       "      <td>E02002536</td>\n",
       "      <td>E836</td>\n",
       "      <td>12395.3</td>\n",
       "    </tr>\n",
       "    <tr>\n",
       "      <th>4</th>\n",
       "      <td>838</td>\n",
       "      <td>E02002536</td>\n",
       "      <td>E838</td>\n",
       "      <td>12672.0</td>\n",
       "    </tr>\n",
       "    <tr>\n",
       "      <th>...</th>\n",
       "      <td>...</td>\n",
       "      <td>...</td>\n",
       "      <td>...</td>\n",
       "      <td>...</td>\n",
       "    </tr>\n",
       "    <tr>\n",
       "      <th>373281</th>\n",
       "      <td>10858850</td>\n",
       "      <td>E02004669</td>\n",
       "      <td>E1250</td>\n",
       "      <td>9468.9</td>\n",
       "    </tr>\n",
       "    <tr>\n",
       "      <th>373282</th>\n",
       "      <td>10858852</td>\n",
       "      <td>E02004669</td>\n",
       "      <td>E1252</td>\n",
       "      <td>13554.6</td>\n",
       "    </tr>\n",
       "    <tr>\n",
       "      <th>373283</th>\n",
       "      <td>10858977</td>\n",
       "      <td>E02004669</td>\n",
       "      <td>E1377</td>\n",
       "      <td>10209.2</td>\n",
       "    </tr>\n",
       "    <tr>\n",
       "      <th>373284</th>\n",
       "      <td>10863678</td>\n",
       "      <td>E02006070</td>\n",
       "      <td>E1278</td>\n",
       "      <td>8207.2</td>\n",
       "    </tr>\n",
       "    <tr>\n",
       "      <th>373285</th>\n",
       "      <td>10865177</td>\n",
       "      <td>E02006679</td>\n",
       "      <td>E1177</td>\n",
       "      <td>11732.7</td>\n",
       "    </tr>\n",
       "  </tbody>\n",
       "</table>\n",
       "<p>373286 rows × 4 columns</p>\n",
       "</div>"
      ],
      "text/plain": [
       "        Unnamed: 0  origin_id dest_id  distance\n",
       "0              122  E02002536    E122    6712.7\n",
       "1              127  E02002536    E127   13881.2\n",
       "2              137  E02002536    E137   13631.4\n",
       "3              836  E02002536    E836   12395.3\n",
       "4              838  E02002536    E838   12672.0\n",
       "...            ...        ...     ...       ...\n",
       "373281    10858850  E02004669   E1250    9468.9\n",
       "373282    10858852  E02004669   E1252   13554.6\n",
       "373283    10858977  E02004669   E1377   10209.2\n",
       "373284    10863678  E02006070   E1278    8207.2\n",
       "373285    10865177  E02006679   E1177   11732.7\n",
       "\n",
       "[373286 rows x 4 columns]"
      ]
     },
     "execution_count": 6,
     "metadata": {},
     "output_type": "execute_result"
    }
   ],
   "source": [
    "df_distance_existing_sites_covered_MSOA"
   ]
  },
  {
   "cell_type": "code",
   "execution_count": 7,
   "metadata": {},
   "outputs": [],
   "source": [
    "# demand_points = pandas.read_csv('../Data/Uncovered_MSOA_380.csv')\n",
    "# facility_points = pandas.read_csv('../Data/df_potential_site_for_uncovered_MSOAs.csv')\n"
   ]
  },
  {
   "cell_type": "code",
   "execution_count": 8,
   "metadata": {},
   "outputs": [
    {
     "name": "stdout",
     "output_type": "stream",
     "text": [
      "Index(['Unnamed: 0', 'origin_id', 'dest_id', 'distance'], dtype='object')\n",
      "Index(['origin_id', 'dest_id', 'distance'], dtype='object')\n"
     ]
    }
   ],
   "source": [
    "print(df_distance_existing_sites_covered_MSOA.columns)\n",
    "print(df_distance_potential_sites_all_MSOA.columns)"
   ]
  },
  {
   "cell_type": "code",
   "execution_count": 9,
   "metadata": {},
   "outputs": [],
   "source": [
    "# combine two distance df\n",
    "df_distance_existing_potential_sites_all_MSOAs = pandas.concat([df_distance_existing_sites_covered_MSOA, df_distance_potential_sites_all_MSOA], ignore_index=False)"
   ]
  },
  {
   "cell_type": "markdown",
   "metadata": {},
   "source": [
    "## Formulate and solve the LSCP"
   ]
  },
  {
   "cell_type": "code",
   "execution_count": 10,
   "metadata": {},
   "outputs": [],
   "source": [
    "# transform the distance df to matrix\n",
    "ntw_dist_piv = df_distance_existing_potential_sites_all_MSOAs.pivot_table(values=\"distance\", index=\"origin_id\", columns=\"dest_id\")\n",
    "# transform matrix into numpy array\n",
    "cost_matrix = ntw_dist_piv.to_numpy()"
   ]
  },
  {
   "cell_type": "code",
   "execution_count": 11,
   "metadata": {},
   "outputs": [],
   "source": [
    "# save the column names as a list\n",
    "list_site_ID = ntw_dist_piv.columns.to_list()"
   ]
  },
  {
   "cell_type": "code",
   "execution_count": 12,
   "metadata": {},
   "outputs": [],
   "source": [
    "# if an element is NA or equal to or greater than the service distance in the array, it means it is greater than the predefined service distance. Set it as great_distance\n",
    "cost_matrix[cost_matrix == service_dist] = great_dist\n",
    "cost_matrix[numpy.isnan(cost_matrix)] = great_dist"
   ]
  },
  {
   "cell_type": "code",
   "execution_count": 13,
   "metadata": {},
   "outputs": [
    {
     "data": {
      "text/plain": [
       "(6788, 22727)"
      ]
     },
     "execution_count": 13,
     "metadata": {},
     "output_type": "execute_result"
    }
   ],
   "source": [
    "cost_matrix.shape"
   ]
  },
  {
   "cell_type": "code",
   "execution_count": 14,
   "metadata": {},
   "outputs": [
    {
     "name": "stdout",
     "output_type": "stream",
     "text": [
      "Set parameter Username\n",
      "Academic license - for non-commercial use only - expires 2023-06-14\n",
      "LSCP solution time (seconds): 4971\n"
     ]
    }
   ],
   "source": [
    "time_start = time.time()\n",
    "lscp_all_MSOA = LSCP.from_cost_matrix(cost_matrix, service_dist)\n",
    "lscp_all_MSOA = lscp_all_MSOA.solve(pulp.GUROBI(msg=False))\n",
    "lscp_all_MSOA.facility_client_array()\n",
    "print(\"LSCP solution time (seconds): {}\".format(int(time.time() - time_start)))"
   ]
  },
  {
   "cell_type": "code",
   "execution_count": 15,
   "metadata": {},
   "outputs": [
    {
     "name": "stdout",
     "output_type": "stream",
     "text": [
      "Number of uncovered client: 0\n",
      "Number of selected facilities: 313\n"
     ]
    }
   ],
   "source": [
    "# check that the result is correct\n",
    "\n",
    "# are all demand points covered by at least one selected facility?\n",
    "lscp_all_MSOA.uncovered_clients()\n",
    "print(\"Number of uncovered client: {}\".format(lscp_all_MSOA.n_cli_uncov))\n",
    "\n",
    "# how many facilities are selected\n",
    "list_fac_sites_selected = [i for i, x in enumerate(lscp_all_MSOA.fac2cli) if x]\n",
    "print(\"Number of selected facilities: {}\".format(len(list_fac_sites_selected)))\n",
    "# getting the ID list of selected facilities\n",
    "list_id_fac_sites_selected = [list_site_ID[i] for i in list_fac_sites_selected]\n",
    "\n",
    "# save the dataframe of selected facility to a file\n",
    "# facility_points.loc[facility_points.site_ID.isin(list_id_fac_sites_selected)].to_csv(\"../Data/df_LSCP_facility_for_uncovered_MSOA.csv\", index=False)"
   ]
  },
  {
   "cell_type": "code",
   "execution_count": 16,
   "metadata": {},
   "outputs": [],
   "source": [
    "# save the dataframe of selected facility to a file\n",
    "pandas.DataFrame({'site_ID':list_id_fac_sites_selected}).to_csv(\"../Data/df_LSCP_facility_ID_for_all_MSOAs.csv\", index=False) "
   ]
  }
 ],
 "metadata": {
  "colab": {
   "authorship_tag": "ABX9TyO+EyAsd1deGMEsaw0JL85c",
   "collapsed_sections": [],
   "include_colab_link": true,
   "name": "LSCP 1.ipynb",
   "provenance": []
  },
  "kernelspec": {
   "display_name": "urbsim",
   "language": "python",
   "name": "urbsim"
  },
  "language_info": {
   "codemirror_mode": {
    "name": "ipython",
    "version": 3
   },
   "file_extension": ".py",
   "mimetype": "text/x-python",
   "name": "python",
   "nbconvert_exporter": "python",
   "pygments_lexer": "ipython3",
   "version": "3.8.3"
  }
 },
 "nbformat": 4,
 "nbformat_minor": 4
}
